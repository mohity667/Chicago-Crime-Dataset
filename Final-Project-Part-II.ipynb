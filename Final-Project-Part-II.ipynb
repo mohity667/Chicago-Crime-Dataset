{
 "cells": [
  {
   "cell_type": "markdown",
   "metadata": {},
   "source": [
    "## Final Project Part - II\n",
    "\n",
    "### In this part, we will be creating tables and loading data into the tables using the ERD in Part - I.\n",
    "\n",
    "In this project, we will explore Chicago Crime Dataset and implement a relational database for storing the data. During the final week, you will complete Tasks 3-5:\n",
    "\n",
    "1. Identify the features (attributes) in Chicago Crime dataset and design an entity-relationship model\n",
    "2. Refine the model and convert each relation to BCNF (if required)\n",
    "3. Using DDL implement the relations in a Postgres server\n",
    "4. Load the given data to the relations\n",
    "5. Execute some interesting queries on the relations"
   ]
  },
  {
   "cell_type": "markdown",
   "metadata": {},
   "source": [
    "## 2.1 Using DDL, create each of the relations in the postgres server. \n",
    "\n",
    "* Use the ERD from Module 7 to create tables (DDL).\n",
    "* Add additional cells if required.\n",
    "* Make sure you have good documentation for each table to explain what attributes are and anything that are worth noting."
   ]
  },
  {
   "cell_type": "code",
   "execution_count": 3,
   "metadata": {},
   "outputs": [
    {
     "name": "stdout",
     "output_type": "stream",
     "text": [
      "········\n"
     ]
    }
   ],
   "source": [
    "import getpass\n",
    "mypasswd = getpass.getpass()"
   ]
  },
  {
   "cell_type": "code",
   "execution_count": 4,
   "metadata": {},
   "outputs": [],
   "source": [
    "# Then connects to the DB\n",
    "from sqlalchemy.engine.url import URL\n",
    "from sqlalchemy import create_engine\n",
    "# -------------- Add Content Below\n",
    "import psycopg2\n",
    "import numpy as np\n",
    "from psycopg2.extensions import adapt, register_adapter, AsIs\n",
    "# SQLAlchemy Connection Parameters\n",
    "connection = psycopg2.connect(database = 'dsa_student',\n",
    "user = 'myqg3',\n",
    "host = 'pgsql.dsa.lan',\n",
    "password = mypasswd)\n",
    "\n",
    "cursor = connection.cursor()\n"
   ]
  },
  {
   "cell_type": "code",
   "execution_count": 5,
   "metadata": {},
   "outputs": [],
   "source": [
    "sqlCreateTable = \"\"\"\n",
    "CREATE TABLE IF NOT EXISTS myqg3.crime_code(\n",
    "iucr VARCHAR(50) NOT NULL,\n",
    "fbi_code VARCHAR(50) NOT NULL,\n",
    "description VARCHAR(50),\n",
    "primary_type VARCHAR(50),\n",
    "PRIMARY KEY (iucr,fbi_code)\n",
    ");\"\"\"\n",
    "cursor.execute(sqlCreateTable)\n",
    "connection.commit()"
   ]
  },
  {
   "cell_type": "code",
   "execution_count": 6,
   "metadata": {},
   "outputs": [],
   "source": [
    "sqlCreateTable = \"\"\"\n",
    "CREATE TABLE IF NOT EXISTS myqg3.location_area(\n",
    "la_id INT NOT NULL PRIMARY KEY,\n",
    "beat INT,\n",
    "district INT,\n",
    "ward INT,\n",
    "community_area INT\n",
    ");\"\"\"\n",
    "cursor.execute(sqlCreateTable)\n",
    "connection.commit()"
   ]
  },
  {
   "cell_type": "code",
   "execution_count": 7,
   "metadata": {},
   "outputs": [],
   "source": [
    "sqlCreateTable = \"\"\"\n",
    "CREATE TABLE IF NOT EXISTS myqg3.location_block(\n",
    "lb_id INT NOT NULL PRIMARY KEY,\n",
    "block VARCHAR(150)\n",
    ");\"\"\"\n",
    "cursor.execute(sqlCreateTable)\n",
    "connection.commit()"
   ]
  },
  {
   "cell_type": "code",
   "execution_count": 8,
   "metadata": {},
   "outputs": [],
   "source": [
    "sqlCreateTable = \"\"\"\n",
    "CREATE TABLE IF NOT EXISTS myqg3.location_description(\n",
    "ld_id INT NOT NULL PRIMARY KEY,\n",
    "location_description VARCHAR(50)\n",
    ");\"\"\"\n",
    "cursor.execute(sqlCreateTable)\n",
    "connection.commit()"
   ]
  },
  {
   "cell_type": "code",
   "execution_count": 9,
   "metadata": {},
   "outputs": [],
   "source": [
    "sqlCreateTable = \"\"\"\n",
    "CREATE TABLE IF NOT EXISTS myqg3.location_coordinate(\n",
    "lc_id INT NOT NULL PRIMARY KEY,\n",
    "x_coordinate INT,\n",
    "y_coordinate INT,\n",
    "latitude FLOAT,\n",
    "longitude FLOAT,\n",
    "location VARCHAR(50)\n",
    ");\"\"\"\n",
    "cursor.execute(sqlCreateTable)\n",
    "connection.commit()"
   ]
  },
  {
   "cell_type": "code",
   "execution_count": 10,
   "metadata": {},
   "outputs": [],
   "source": [
    "sqlCreateTable = \"\"\"\n",
    "CREATE TABLE IF NOT EXISTS myqg3.crime_location(\n",
    "cl_id INT NOT NULL PRIMARY KEY,\n",
    "la_id INT,\n",
    "lb_id INT,\n",
    "lc_id INT,\n",
    "ld_id INT,\n",
    "FOREIGN KEY (la_id)\n",
    "    REFERENCES location_area(la_id),\n",
    "FOREIGN KEY (lb_id)\n",
    "    REFERENCES location_block(lb_id),\n",
    "FOREIGN KEY (lc_id)\n",
    "    REFERENCES location_coordinate(lc_id),\n",
    "FOREIGN KEY (ld_id)\n",
    "    REFERENCES location_description(ld_id)\n",
    ");\"\"\"\n",
    "cursor.execute(sqlCreateTable)\n",
    "connection.commit()"
   ]
  },
  {
   "cell_type": "code",
   "execution_count": 11,
   "metadata": {},
   "outputs": [],
   "source": [
    "sqlCreateTable = \"\"\"\n",
    "CREATE TABLE IF NOT EXISTS myqg3.crime_record(\n",
    "id INT NOT NULL PRIMARY KEY,\n",
    "iucr VARCHAR(50),\n",
    "fbi_code VARCHAR(50),\n",
    "cl_id INT,\n",
    "unnamed_id INT,\n",
    "case_number VARCHAR(50),\n",
    "arrest VARCHAR(10),\n",
    "domestic VARCHAR(10),\n",
    "crime_date TIMESTAMP,\n",
    "year INT,\n",
    "updated_on TIMESTAMP,\n",
    "CONSTRAINT crime_code_pkey\n",
    "FOREIGN KEY (iucr,fbi_code)\n",
    "    REFERENCES crime_code(iucr,fbi_code),\n",
    "FOREIGN KEY (cl_id)\n",
    "    REFERENCES crime_location(cl_id)\n",
    ");\"\"\"\n",
    "cursor.execute(sqlCreateTable)\n",
    "connection.commit()"
   ]
  },
  {
   "cell_type": "code",
   "execution_count": 24,
   "metadata": {},
   "outputs": [
    {
     "data": {
      "text/html": [
       "<div>\n",
       "<style scoped>\n",
       "    .dataframe tbody tr th:only-of-type {\n",
       "        vertical-align: middle;\n",
       "    }\n",
       "\n",
       "    .dataframe tbody tr th {\n",
       "        vertical-align: top;\n",
       "    }\n",
       "\n",
       "    .dataframe thead th {\n",
       "        text-align: right;\n",
       "    }\n",
       "</style>\n",
       "<table border=\"1\" class=\"dataframe\">\n",
       "  <thead>\n",
       "    <tr style=\"text-align: right;\">\n",
       "      <th></th>\n",
       "      <th>Unnamed: 0</th>\n",
       "      <th>ID</th>\n",
       "      <th>Case Number</th>\n",
       "      <th>Date</th>\n",
       "      <th>Block</th>\n",
       "      <th>IUCR</th>\n",
       "      <th>Primary Type</th>\n",
       "      <th>Description</th>\n",
       "      <th>Location Description</th>\n",
       "      <th>Arrest</th>\n",
       "      <th>...</th>\n",
       "      <th>Ward</th>\n",
       "      <th>Community Area</th>\n",
       "      <th>FBI Code</th>\n",
       "      <th>X Coordinate</th>\n",
       "      <th>Y Coordinate</th>\n",
       "      <th>Year</th>\n",
       "      <th>Updated On</th>\n",
       "      <th>Latitude</th>\n",
       "      <th>Longitude</th>\n",
       "      <th>Location</th>\n",
       "    </tr>\n",
       "  </thead>\n",
       "  <tbody>\n",
       "    <tr>\n",
       "      <th>0</th>\n",
       "      <td>47398</td>\n",
       "      <td>10433096</td>\n",
       "      <td>HZ170962</td>\n",
       "      <td>01-01-2012 00:00</td>\n",
       "      <td>026XX N MC VICKER AVE</td>\n",
       "      <td>1562</td>\n",
       "      <td>SEX OFFENSE</td>\n",
       "      <td>AGG CRIMINAL SEXUAL ABUSE</td>\n",
       "      <td>RESIDENCE</td>\n",
       "      <td>True</td>\n",
       "      <td>...</td>\n",
       "      <td>29.0</td>\n",
       "      <td>19.0</td>\n",
       "      <td>17</td>\n",
       "      <td>1135617</td>\n",
       "      <td>1916918</td>\n",
       "      <td>2012</td>\n",
       "      <td>04-02-2016 06:33</td>\n",
       "      <td>41.928203</td>\n",
       "      <td>-87.777079</td>\n",
       "      <td>(41.928202943, -87.777079437)</td>\n",
       "    </tr>\n",
       "    <tr>\n",
       "      <th>1</th>\n",
       "      <td>47420</td>\n",
       "      <td>10433124</td>\n",
       "      <td>HZ170983</td>\n",
       "      <td>01-01-2012 00:00</td>\n",
       "      <td>026XX N MC VICKER AVE</td>\n",
       "      <td>1544</td>\n",
       "      <td>SEX OFFENSE</td>\n",
       "      <td>SEXUAL EXPLOITATION OF A CHILD</td>\n",
       "      <td>RESIDENCE</td>\n",
       "      <td>True</td>\n",
       "      <td>...</td>\n",
       "      <td>29.0</td>\n",
       "      <td>19.0</td>\n",
       "      <td>17</td>\n",
       "      <td>1135617</td>\n",
       "      <td>1916918</td>\n",
       "      <td>2012</td>\n",
       "      <td>04-02-2016 06:33</td>\n",
       "      <td>41.928203</td>\n",
       "      <td>-87.777079</td>\n",
       "      <td>(41.928202943, -87.777079437)</td>\n",
       "    </tr>\n",
       "    <tr>\n",
       "      <th>2</th>\n",
       "      <td>802910</td>\n",
       "      <td>10532867</td>\n",
       "      <td>HZ276514</td>\n",
       "      <td>01-01-2012 00:00</td>\n",
       "      <td>036XX S RHODES AVE</td>\n",
       "      <td>1563</td>\n",
       "      <td>SEX OFFENSE</td>\n",
       "      <td>CRIMINAL SEXUAL ABUSE</td>\n",
       "      <td>APARTMENT</td>\n",
       "      <td>False</td>\n",
       "      <td>...</td>\n",
       "      <td>4.0</td>\n",
       "      <td>35.0</td>\n",
       "      <td>17</td>\n",
       "      <td>1180179</td>\n",
       "      <td>1881011</td>\n",
       "      <td>2012</td>\n",
       "      <td>04-02-2016 06:33</td>\n",
       "      <td>41.828762</td>\n",
       "      <td>-87.614436</td>\n",
       "      <td>(41.828762287, -87.614436164)</td>\n",
       "    </tr>\n",
       "    <tr>\n",
       "      <th>3</th>\n",
       "      <td>803605</td>\n",
       "      <td>10536876</td>\n",
       "      <td>HZ280873</td>\n",
       "      <td>01-01-2012 00:00</td>\n",
       "      <td>062XX S ROCKWELL ST</td>\n",
       "      <td>1153</td>\n",
       "      <td>DECEPTIVE PRACTICE</td>\n",
       "      <td>FINANCIAL IDENTITY THEFT OVER $ 300</td>\n",
       "      <td>RESIDENCE</td>\n",
       "      <td>False</td>\n",
       "      <td>...</td>\n",
       "      <td>15.0</td>\n",
       "      <td>66.0</td>\n",
       "      <td>11</td>\n",
       "      <td>1160111</td>\n",
       "      <td>1863230</td>\n",
       "      <td>2012</td>\n",
       "      <td>04-02-2016 06:33</td>\n",
       "      <td>41.780406</td>\n",
       "      <td>-87.639933</td>\n",
       "      <td>(41.774357248, -87.639932837)</td>\n",
       "    </tr>\n",
       "    <tr>\n",
       "      <th>4</th>\n",
       "      <td>831733</td>\n",
       "      <td>9581929</td>\n",
       "      <td>HX232501</td>\n",
       "      <td>01-01-2012 00:00</td>\n",
       "      <td>006XX W 66TH ST</td>\n",
       "      <td>1563</td>\n",
       "      <td>SEX OFFENSE</td>\n",
       "      <td>CRIMINAL SEXUAL ABUSE</td>\n",
       "      <td>RESIDENCE</td>\n",
       "      <td>False</td>\n",
       "      <td>...</td>\n",
       "      <td>6.0</td>\n",
       "      <td>68.0</td>\n",
       "      <td>17</td>\n",
       "      <td>1173390</td>\n",
       "      <td>1861129</td>\n",
       "      <td>2012</td>\n",
       "      <td>04-02-2016 06:33</td>\n",
       "      <td>41.774357</td>\n",
       "      <td>-87.639933</td>\n",
       "      <td>(41.774357248, -87.639932837)</td>\n",
       "    </tr>\n",
       "  </tbody>\n",
       "</table>\n",
       "<p>5 rows × 23 columns</p>\n",
       "</div>"
      ],
      "text/plain": [
       "   Unnamed: 0        ID Case Number              Date                  Block  \\\n",
       "0       47398  10433096    HZ170962  01-01-2012 00:00  026XX N MC VICKER AVE   \n",
       "1       47420  10433124    HZ170983  01-01-2012 00:00  026XX N MC VICKER AVE   \n",
       "2      802910  10532867    HZ276514  01-01-2012 00:00     036XX S RHODES AVE   \n",
       "3      803605  10536876    HZ280873  01-01-2012 00:00    062XX S ROCKWELL ST   \n",
       "4      831733   9581929    HX232501  01-01-2012 00:00        006XX W 66TH ST   \n",
       "\n",
       "   IUCR        Primary Type                          Description  \\\n",
       "0  1562         SEX OFFENSE            AGG CRIMINAL SEXUAL ABUSE   \n",
       "1  1544         SEX OFFENSE       SEXUAL EXPLOITATION OF A CHILD   \n",
       "2  1563         SEX OFFENSE                CRIMINAL SEXUAL ABUSE   \n",
       "3  1153  DECEPTIVE PRACTICE  FINANCIAL IDENTITY THEFT OVER $ 300   \n",
       "4  1563         SEX OFFENSE                CRIMINAL SEXUAL ABUSE   \n",
       "\n",
       "  Location Description  Arrest  ...  Ward  Community Area  FBI Code  \\\n",
       "0            RESIDENCE    True  ...  29.0            19.0        17   \n",
       "1            RESIDENCE    True  ...  29.0            19.0        17   \n",
       "2            APARTMENT   False  ...   4.0            35.0        17   \n",
       "3            RESIDENCE   False  ...  15.0            66.0        11   \n",
       "4            RESIDENCE   False  ...   6.0            68.0        17   \n",
       "\n",
       "   X Coordinate  Y Coordinate  Year        Updated On   Latitude  Longitude  \\\n",
       "0       1135617       1916918  2012  04-02-2016 06:33  41.928203 -87.777079   \n",
       "1       1135617       1916918  2012  04-02-2016 06:33  41.928203 -87.777079   \n",
       "2       1180179       1881011  2012  04-02-2016 06:33  41.828762 -87.614436   \n",
       "3       1160111       1863230  2012  04-02-2016 06:33  41.780406 -87.639933   \n",
       "4       1173390       1861129  2012  04-02-2016 06:33  41.774357 -87.639933   \n",
       "\n",
       "                        Location  \n",
       "0  (41.928202943, -87.777079437)  \n",
       "1  (41.928202943, -87.777079437)  \n",
       "2  (41.828762287, -87.614436164)  \n",
       "3  (41.774357248, -87.639932837)  \n",
       "4  (41.774357248, -87.639932837)  \n",
       "\n",
       "[5 rows x 23 columns]"
      ]
     },
     "execution_count": 24,
     "metadata": {},
     "output_type": "execute_result"
    }
   ],
   "source": [
    "import pandas as pd\n",
    "import numpy as np\n",
    "\n",
    "df = pd.read_csv(\"Chicago-Crime-Sample--2012.csv\")\n",
    "df.head()\n"
   ]
  },
  {
   "cell_type": "code",
   "execution_count": 25,
   "metadata": {},
   "outputs": [
    {
     "data": {
      "text/html": [
       "<div>\n",
       "<style scoped>\n",
       "    .dataframe tbody tr th:only-of-type {\n",
       "        vertical-align: middle;\n",
       "    }\n",
       "\n",
       "    .dataframe tbody tr th {\n",
       "        vertical-align: top;\n",
       "    }\n",
       "\n",
       "    .dataframe thead th {\n",
       "        text-align: right;\n",
       "    }\n",
       "</style>\n",
       "<table border=\"1\" class=\"dataframe\">\n",
       "  <thead>\n",
       "    <tr style=\"text-align: right;\">\n",
       "      <th></th>\n",
       "      <th>Unnamed: 0</th>\n",
       "      <th>ID</th>\n",
       "      <th>Case Number</th>\n",
       "      <th>Date</th>\n",
       "      <th>Block</th>\n",
       "      <th>IUCR</th>\n",
       "      <th>Primary Type</th>\n",
       "      <th>Description</th>\n",
       "      <th>Location Description</th>\n",
       "      <th>Arrest</th>\n",
       "      <th>...</th>\n",
       "      <th>Ward</th>\n",
       "      <th>Community Area</th>\n",
       "      <th>FBI Code</th>\n",
       "      <th>X Coordinate</th>\n",
       "      <th>Y Coordinate</th>\n",
       "      <th>Year</th>\n",
       "      <th>Updated On</th>\n",
       "      <th>Latitude</th>\n",
       "      <th>Longitude</th>\n",
       "      <th>Location</th>\n",
       "    </tr>\n",
       "  </thead>\n",
       "  <tbody>\n",
       "    <tr>\n",
       "      <th>0</th>\n",
       "      <td>47398</td>\n",
       "      <td>10433096</td>\n",
       "      <td>HZ170962</td>\n",
       "      <td>01-01-2012 00:00</td>\n",
       "      <td>026XX N MC VICKER AVE</td>\n",
       "      <td>1562</td>\n",
       "      <td>SEX OFFENSE</td>\n",
       "      <td>AGG CRIMINAL SEXUAL ABUSE</td>\n",
       "      <td>RESIDENCE</td>\n",
       "      <td>True</td>\n",
       "      <td>...</td>\n",
       "      <td>29.0</td>\n",
       "      <td>19.0</td>\n",
       "      <td>17</td>\n",
       "      <td>1135617</td>\n",
       "      <td>1916918</td>\n",
       "      <td>2012</td>\n",
       "      <td>04-02-2016 06:33</td>\n",
       "      <td>41.928203</td>\n",
       "      <td>-87.777079</td>\n",
       "      <td>(41.928202943, -87.777079437)</td>\n",
       "    </tr>\n",
       "    <tr>\n",
       "      <th>1</th>\n",
       "      <td>47420</td>\n",
       "      <td>10433124</td>\n",
       "      <td>HZ170983</td>\n",
       "      <td>01-01-2012 00:00</td>\n",
       "      <td>026XX N MC VICKER AVE</td>\n",
       "      <td>1544</td>\n",
       "      <td>SEX OFFENSE</td>\n",
       "      <td>SEXUAL EXPLOITATION OF A CHILD</td>\n",
       "      <td>RESIDENCE</td>\n",
       "      <td>True</td>\n",
       "      <td>...</td>\n",
       "      <td>29.0</td>\n",
       "      <td>19.0</td>\n",
       "      <td>17</td>\n",
       "      <td>1135617</td>\n",
       "      <td>1916918</td>\n",
       "      <td>2012</td>\n",
       "      <td>04-02-2016 06:33</td>\n",
       "      <td>41.928203</td>\n",
       "      <td>-87.777079</td>\n",
       "      <td>(41.928202943, -87.777079437)</td>\n",
       "    </tr>\n",
       "    <tr>\n",
       "      <th>2</th>\n",
       "      <td>802910</td>\n",
       "      <td>10532867</td>\n",
       "      <td>HZ276514</td>\n",
       "      <td>01-01-2012 00:00</td>\n",
       "      <td>036XX S RHODES AVE</td>\n",
       "      <td>1563</td>\n",
       "      <td>SEX OFFENSE</td>\n",
       "      <td>CRIMINAL SEXUAL ABUSE</td>\n",
       "      <td>APARTMENT</td>\n",
       "      <td>False</td>\n",
       "      <td>...</td>\n",
       "      <td>4.0</td>\n",
       "      <td>35.0</td>\n",
       "      <td>17</td>\n",
       "      <td>1180179</td>\n",
       "      <td>1881011</td>\n",
       "      <td>2012</td>\n",
       "      <td>04-02-2016 06:33</td>\n",
       "      <td>41.828762</td>\n",
       "      <td>-87.614436</td>\n",
       "      <td>(41.828762287, -87.614436164)</td>\n",
       "    </tr>\n",
       "    <tr>\n",
       "      <th>3</th>\n",
       "      <td>803605</td>\n",
       "      <td>10536876</td>\n",
       "      <td>HZ280873</td>\n",
       "      <td>01-01-2012 00:00</td>\n",
       "      <td>062XX S ROCKWELL ST</td>\n",
       "      <td>1153</td>\n",
       "      <td>DECEPTIVE PRACTICE</td>\n",
       "      <td>FINANCIAL IDENTITY THEFT OVER $ 300</td>\n",
       "      <td>RESIDENCE</td>\n",
       "      <td>False</td>\n",
       "      <td>...</td>\n",
       "      <td>15.0</td>\n",
       "      <td>66.0</td>\n",
       "      <td>11</td>\n",
       "      <td>1160111</td>\n",
       "      <td>1863230</td>\n",
       "      <td>2012</td>\n",
       "      <td>04-02-2016 06:33</td>\n",
       "      <td>41.780406</td>\n",
       "      <td>-87.639933</td>\n",
       "      <td>(41.774357248, -87.639932837)</td>\n",
       "    </tr>\n",
       "    <tr>\n",
       "      <th>4</th>\n",
       "      <td>831733</td>\n",
       "      <td>9581929</td>\n",
       "      <td>HX232501</td>\n",
       "      <td>01-01-2012 00:00</td>\n",
       "      <td>006XX W 66TH ST</td>\n",
       "      <td>1563</td>\n",
       "      <td>SEX OFFENSE</td>\n",
       "      <td>CRIMINAL SEXUAL ABUSE</td>\n",
       "      <td>RESIDENCE</td>\n",
       "      <td>False</td>\n",
       "      <td>...</td>\n",
       "      <td>6.0</td>\n",
       "      <td>68.0</td>\n",
       "      <td>17</td>\n",
       "      <td>1173390</td>\n",
       "      <td>1861129</td>\n",
       "      <td>2012</td>\n",
       "      <td>04-02-2016 06:33</td>\n",
       "      <td>41.774357</td>\n",
       "      <td>-87.639933</td>\n",
       "      <td>(41.774357248, -87.639932837)</td>\n",
       "    </tr>\n",
       "  </tbody>\n",
       "</table>\n",
       "<p>5 rows × 23 columns</p>\n",
       "</div>"
      ],
      "text/plain": [
       "   Unnamed: 0        ID Case Number              Date                  Block  \\\n",
       "0       47398  10433096    HZ170962  01-01-2012 00:00  026XX N MC VICKER AVE   \n",
       "1       47420  10433124    HZ170983  01-01-2012 00:00  026XX N MC VICKER AVE   \n",
       "2      802910  10532867    HZ276514  01-01-2012 00:00     036XX S RHODES AVE   \n",
       "3      803605  10536876    HZ280873  01-01-2012 00:00    062XX S ROCKWELL ST   \n",
       "4      831733   9581929    HX232501  01-01-2012 00:00        006XX W 66TH ST   \n",
       "\n",
       "   IUCR        Primary Type                          Description  \\\n",
       "0  1562         SEX OFFENSE            AGG CRIMINAL SEXUAL ABUSE   \n",
       "1  1544         SEX OFFENSE       SEXUAL EXPLOITATION OF A CHILD   \n",
       "2  1563         SEX OFFENSE                CRIMINAL SEXUAL ABUSE   \n",
       "3  1153  DECEPTIVE PRACTICE  FINANCIAL IDENTITY THEFT OVER $ 300   \n",
       "4  1563         SEX OFFENSE                CRIMINAL SEXUAL ABUSE   \n",
       "\n",
       "  Location Description  Arrest  ...  Ward  Community Area  FBI Code  \\\n",
       "0            RESIDENCE    True  ...  29.0            19.0        17   \n",
       "1            RESIDENCE    True  ...  29.0            19.0        17   \n",
       "2            APARTMENT   False  ...   4.0            35.0        17   \n",
       "3            RESIDENCE   False  ...  15.0            66.0        11   \n",
       "4            RESIDENCE   False  ...   6.0            68.0        17   \n",
       "\n",
       "   X Coordinate  Y Coordinate  Year        Updated On   Latitude  Longitude  \\\n",
       "0       1135617       1916918  2012  04-02-2016 06:33  41.928203 -87.777079   \n",
       "1       1135617       1916918  2012  04-02-2016 06:33  41.928203 -87.777079   \n",
       "2       1180179       1881011  2012  04-02-2016 06:33  41.828762 -87.614436   \n",
       "3       1160111       1863230  2012  04-02-2016 06:33  41.780406 -87.639933   \n",
       "4       1173390       1861129  2012  04-02-2016 06:33  41.774357 -87.639933   \n",
       "\n",
       "                        Location  \n",
       "0  (41.928202943, -87.777079437)  \n",
       "1  (41.928202943, -87.777079437)  \n",
       "2  (41.828762287, -87.614436164)  \n",
       "3  (41.774357248, -87.639932837)  \n",
       "4  (41.774357248, -87.639932837)  \n",
       "\n",
       "[5 rows x 23 columns]"
      ]
     },
     "execution_count": 25,
     "metadata": {},
     "output_type": "execute_result"
    }
   ],
   "source": [
    "df1 = df.copy()\n",
    "df1.head()"
   ]
  },
  {
   "cell_type": "code",
   "execution_count": 26,
   "metadata": {},
   "outputs": [],
   "source": [
    "df1['Ward'] = df1['Ward'].fillna(0)\n",
    "df1['Community Area'] = df1['Community Area'].fillna(0)\n",
    "df1 = df1.astype({\"Ward\":int,\"Community Area\":int})\n",
    "df1 = df1.astype({\"X Coordinate\": int, \"Y Coordinate\": int})"
   ]
  },
  {
   "cell_type": "code",
   "execution_count": 27,
   "metadata": {},
   "outputs": [],
   "source": [
    "block = pd.DataFrame(df1.iloc[:,4])\n",
    "block.drop_duplicates(subset='Block',inplace=True)\n",
    "block.insert(0,'lb_id',range(1,1+len(block)))"
   ]
  },
  {
   "cell_type": "code",
   "execution_count": 28,
   "metadata": {},
   "outputs": [
    {
     "data": {
      "text/html": [
       "<div>\n",
       "<style scoped>\n",
       "    .dataframe tbody tr th:only-of-type {\n",
       "        vertical-align: middle;\n",
       "    }\n",
       "\n",
       "    .dataframe tbody tr th {\n",
       "        vertical-align: top;\n",
       "    }\n",
       "\n",
       "    .dataframe thead th {\n",
       "        text-align: right;\n",
       "    }\n",
       "</style>\n",
       "<table border=\"1\" class=\"dataframe\">\n",
       "  <thead>\n",
       "    <tr style=\"text-align: right;\">\n",
       "      <th></th>\n",
       "      <th>lb_id</th>\n",
       "      <th>Block</th>\n",
       "    </tr>\n",
       "  </thead>\n",
       "  <tbody>\n",
       "    <tr>\n",
       "      <th>334257</th>\n",
       "      <td>28336</td>\n",
       "      <td>032XX S GILES AVE</td>\n",
       "    </tr>\n",
       "    <tr>\n",
       "      <th>334288</th>\n",
       "      <td>28337</td>\n",
       "      <td>007XX E 130TH ST</td>\n",
       "    </tr>\n",
       "    <tr>\n",
       "      <th>334631</th>\n",
       "      <td>28338</td>\n",
       "      <td>010XX N HOOKER ST</td>\n",
       "    </tr>\n",
       "    <tr>\n",
       "      <th>334654</th>\n",
       "      <td>28339</td>\n",
       "      <td>029XX W FARGO AVE</td>\n",
       "    </tr>\n",
       "    <tr>\n",
       "      <th>334701</th>\n",
       "      <td>28340</td>\n",
       "      <td>052XX S LECLAIRE AVE</td>\n",
       "    </tr>\n",
       "  </tbody>\n",
       "</table>\n",
       "</div>"
      ],
      "text/plain": [
       "        lb_id                 Block\n",
       "334257  28336     032XX S GILES AVE\n",
       "334288  28337      007XX E 130TH ST\n",
       "334631  28338     010XX N HOOKER ST\n",
       "334654  28339     029XX W FARGO AVE\n",
       "334701  28340  052XX S LECLAIRE AVE"
      ]
     },
     "execution_count": 28,
     "metadata": {},
     "output_type": "execute_result"
    }
   ],
   "source": [
    "block.tail()"
   ]
  },
  {
   "cell_type": "code",
   "execution_count": 29,
   "metadata": {},
   "outputs": [],
   "source": [
    "location_description = pd.DataFrame(df1.iloc[:,8])\n",
    "location_description.drop_duplicates(subset='Location Description',inplace=True)\n",
    "location_description.insert(0,'ld_id',range(1,1+len(location_description)))"
   ]
  },
  {
   "cell_type": "code",
   "execution_count": 30,
   "metadata": {},
   "outputs": [
    {
     "data": {
      "text/html": [
       "<div>\n",
       "<style scoped>\n",
       "    .dataframe tbody tr th:only-of-type {\n",
       "        vertical-align: middle;\n",
       "    }\n",
       "\n",
       "    .dataframe tbody tr th {\n",
       "        vertical-align: top;\n",
       "    }\n",
       "\n",
       "    .dataframe thead th {\n",
       "        text-align: right;\n",
       "    }\n",
       "</style>\n",
       "<table border=\"1\" class=\"dataframe\">\n",
       "  <thead>\n",
       "    <tr style=\"text-align: right;\">\n",
       "      <th></th>\n",
       "      <th>ld_id</th>\n",
       "      <th>Location Description</th>\n",
       "    </tr>\n",
       "  </thead>\n",
       "  <tbody>\n",
       "    <tr>\n",
       "      <th>29462</th>\n",
       "      <td>94</td>\n",
       "      <td>FOREST PRESERVE</td>\n",
       "    </tr>\n",
       "    <tr>\n",
       "      <th>51354</th>\n",
       "      <td>95</td>\n",
       "      <td>AIRPORT TERMINAL MEZZANINE - NON-SECURE AREA</td>\n",
       "    </tr>\n",
       "    <tr>\n",
       "      <th>75214</th>\n",
       "      <td>96</td>\n",
       "      <td>CREDIT UNION</td>\n",
       "    </tr>\n",
       "    <tr>\n",
       "      <th>82396</th>\n",
       "      <td>97</td>\n",
       "      <td>BOAT/WATERCRAFT</td>\n",
       "    </tr>\n",
       "    <tr>\n",
       "      <th>111658</th>\n",
       "      <td>98</td>\n",
       "      <td>NEWSSTAND</td>\n",
       "    </tr>\n",
       "  </tbody>\n",
       "</table>\n",
       "</div>"
      ],
      "text/plain": [
       "        ld_id                          Location Description\n",
       "29462      94                               FOREST PRESERVE\n",
       "51354      95  AIRPORT TERMINAL MEZZANINE - NON-SECURE AREA\n",
       "75214      96                                  CREDIT UNION\n",
       "82396      97                               BOAT/WATERCRAFT\n",
       "111658     98                                     NEWSSTAND"
      ]
     },
     "execution_count": 30,
     "metadata": {},
     "output_type": "execute_result"
    }
   ],
   "source": [
    "location_description.tail()"
   ]
  },
  {
   "cell_type": "code",
   "execution_count": 32,
   "metadata": {},
   "outputs": [],
   "source": [
    "location_coordinates = pd.DataFrame(df1.iloc[:,[16,17,20,21,22]])\n",
    "location_coordinates.drop_duplicates(subset=['X Coordinate','Y Coordinate','Latitude','Longitude','Location'],inplace=True)\n",
    "location_coordinates.dropna(inplace=True)\n",
    "location_coordinates.insert(0,'lc_id',range(1,1+len(location_coordinates)))"
   ]
  },
  {
   "cell_type": "code",
   "execution_count": 33,
   "metadata": {},
   "outputs": [
    {
     "data": {
      "text/html": [
       "<div>\n",
       "<style scoped>\n",
       "    .dataframe tbody tr th:only-of-type {\n",
       "        vertical-align: middle;\n",
       "    }\n",
       "\n",
       "    .dataframe tbody tr th {\n",
       "        vertical-align: top;\n",
       "    }\n",
       "\n",
       "    .dataframe thead th {\n",
       "        text-align: right;\n",
       "    }\n",
       "</style>\n",
       "<table border=\"1\" class=\"dataframe\">\n",
       "  <thead>\n",
       "    <tr style=\"text-align: right;\">\n",
       "      <th></th>\n",
       "      <th>lc_id</th>\n",
       "      <th>X Coordinate</th>\n",
       "      <th>Y Coordinate</th>\n",
       "      <th>Latitude</th>\n",
       "      <th>Longitude</th>\n",
       "      <th>Location</th>\n",
       "    </tr>\n",
       "  </thead>\n",
       "  <tbody>\n",
       "    <tr>\n",
       "      <th>334701</th>\n",
       "      <td>162282</td>\n",
       "      <td>1143245</td>\n",
       "      <td>1869532</td>\n",
       "      <td>41.798030</td>\n",
       "      <td>-87.750232</td>\n",
       "      <td>(41.79803032, -87.750231573)</td>\n",
       "    </tr>\n",
       "    <tr>\n",
       "      <th>334702</th>\n",
       "      <td>162283</td>\n",
       "      <td>1161592</td>\n",
       "      <td>1921231</td>\n",
       "      <td>41.939536</td>\n",
       "      <td>-87.681510</td>\n",
       "      <td>(41.939536003, -87.681509746)</td>\n",
       "    </tr>\n",
       "    <tr>\n",
       "      <th>334706</th>\n",
       "      <td>162284</td>\n",
       "      <td>1150342</td>\n",
       "      <td>1914710</td>\n",
       "      <td>41.921869</td>\n",
       "      <td>-87.723028</td>\n",
       "      <td>(41.921869111, -87.723027572)</td>\n",
       "    </tr>\n",
       "    <tr>\n",
       "      <th>334709</th>\n",
       "      <td>162285</td>\n",
       "      <td>1169209</td>\n",
       "      <td>1858007</td>\n",
       "      <td>41.765882</td>\n",
       "      <td>-87.655350</td>\n",
       "      <td>(41.76588157, -87.655349847)</td>\n",
       "    </tr>\n",
       "    <tr>\n",
       "      <th>334714</th>\n",
       "      <td>162286</td>\n",
       "      <td>1128745</td>\n",
       "      <td>1924002</td>\n",
       "      <td>41.947762</td>\n",
       "      <td>-87.802171</td>\n",
       "      <td>(41.947761848, -87.802170774)</td>\n",
       "    </tr>\n",
       "  </tbody>\n",
       "</table>\n",
       "</div>"
      ],
      "text/plain": [
       "         lc_id  X Coordinate  Y Coordinate   Latitude  Longitude  \\\n",
       "334701  162282       1143245       1869532  41.798030 -87.750232   \n",
       "334702  162283       1161592       1921231  41.939536 -87.681510   \n",
       "334706  162284       1150342       1914710  41.921869 -87.723028   \n",
       "334709  162285       1169209       1858007  41.765882 -87.655350   \n",
       "334714  162286       1128745       1924002  41.947762 -87.802171   \n",
       "\n",
       "                             Location  \n",
       "334701   (41.79803032, -87.750231573)  \n",
       "334702  (41.939536003, -87.681509746)  \n",
       "334706  (41.921869111, -87.723027572)  \n",
       "334709   (41.76588157, -87.655349847)  \n",
       "334714  (41.947761848, -87.802170774)  "
      ]
     },
     "execution_count": 33,
     "metadata": {},
     "output_type": "execute_result"
    }
   ],
   "source": [
    "location_coordinates.tail()"
   ]
  },
  {
   "cell_type": "code",
   "execution_count": 34,
   "metadata": {},
   "outputs": [],
   "source": [
    "df1 = pd.merge(df1, block, on=\"Block\")"
   ]
  },
  {
   "cell_type": "code",
   "execution_count": 35,
   "metadata": {},
   "outputs": [],
   "source": [
    "df1 = pd.merge(df1, location_description, on=\"Location Description\")\n",
    "df1 = pd.merge(df1, location_area, on=['Beat','District','Ward','Community Area'])\n",
    "df1 = pd.merge(df1, location_coordinates, on=['X Coordinate','Y Coordinate','Latitude','Longitude','Location'])"
   ]
  },
  {
   "cell_type": "code",
   "execution_count": 36,
   "metadata": {},
   "outputs": [
    {
     "data": {
      "text/html": [
       "<div>\n",
       "<style scoped>\n",
       "    .dataframe tbody tr th:only-of-type {\n",
       "        vertical-align: middle;\n",
       "    }\n",
       "\n",
       "    .dataframe tbody tr th {\n",
       "        vertical-align: top;\n",
       "    }\n",
       "\n",
       "    .dataframe thead th {\n",
       "        text-align: right;\n",
       "    }\n",
       "</style>\n",
       "<table border=\"1\" class=\"dataframe\">\n",
       "  <thead>\n",
       "    <tr style=\"text-align: right;\">\n",
       "      <th></th>\n",
       "      <th>lc_id</th>\n",
       "      <th>la_id</th>\n",
       "      <th>ld_id</th>\n",
       "      <th>lb_id</th>\n",
       "    </tr>\n",
       "  </thead>\n",
       "  <tbody>\n",
       "    <tr>\n",
       "      <th>0</th>\n",
       "      <td>1</td>\n",
       "      <td>1</td>\n",
       "      <td>1</td>\n",
       "      <td>1</td>\n",
       "    </tr>\n",
       "    <tr>\n",
       "      <th>1</th>\n",
       "      <td>1</td>\n",
       "      <td>1</td>\n",
       "      <td>1</td>\n",
       "      <td>1</td>\n",
       "    </tr>\n",
       "    <tr>\n",
       "      <th>2</th>\n",
       "      <td>1</td>\n",
       "      <td>1</td>\n",
       "      <td>1</td>\n",
       "      <td>1</td>\n",
       "    </tr>\n",
       "    <tr>\n",
       "      <th>3</th>\n",
       "      <td>83698</td>\n",
       "      <td>1</td>\n",
       "      <td>1</td>\n",
       "      <td>1</td>\n",
       "    </tr>\n",
       "    <tr>\n",
       "      <th>4</th>\n",
       "      <td>83698</td>\n",
       "      <td>1</td>\n",
       "      <td>1</td>\n",
       "      <td>1</td>\n",
       "    </tr>\n",
       "  </tbody>\n",
       "</table>\n",
       "</div>"
      ],
      "text/plain": [
       "   lc_id  la_id  ld_id  lb_id\n",
       "0      1      1      1      1\n",
       "1      1      1      1      1\n",
       "2      1      1      1      1\n",
       "3  83698      1      1      1\n",
       "4  83698      1      1      1"
      ]
     },
     "execution_count": 36,
     "metadata": {},
     "output_type": "execute_result"
    }
   ],
   "source": [
    "crime_location = pd.DataFrame(df1.iloc[:,[-1,-2,-3,-4]])\n",
    "crime_location.head()"
   ]
  },
  {
   "cell_type": "code",
   "execution_count": 37,
   "metadata": {},
   "outputs": [
    {
     "data": {
      "text/html": [
       "<div>\n",
       "<style scoped>\n",
       "    .dataframe tbody tr th:only-of-type {\n",
       "        vertical-align: middle;\n",
       "    }\n",
       "\n",
       "    .dataframe tbody tr th {\n",
       "        vertical-align: top;\n",
       "    }\n",
       "\n",
       "    .dataframe thead th {\n",
       "        text-align: right;\n",
       "    }\n",
       "</style>\n",
       "<table border=\"1\" class=\"dataframe\">\n",
       "  <thead>\n",
       "    <tr style=\"text-align: right;\">\n",
       "      <th></th>\n",
       "      <th>cl_id</th>\n",
       "      <th>lc_id</th>\n",
       "      <th>la_id</th>\n",
       "      <th>ld_id</th>\n",
       "      <th>lb_id</th>\n",
       "    </tr>\n",
       "  </thead>\n",
       "  <tbody>\n",
       "    <tr>\n",
       "      <th>334710</th>\n",
       "      <td>243412</td>\n",
       "      <td>139771</td>\n",
       "      <td>713</td>\n",
       "      <td>58</td>\n",
       "      <td>27466</td>\n",
       "    </tr>\n",
       "    <tr>\n",
       "      <th>334711</th>\n",
       "      <td>243413</td>\n",
       "      <td>136769</td>\n",
       "      <td>713</td>\n",
       "      <td>63</td>\n",
       "      <td>27341</td>\n",
       "    </tr>\n",
       "    <tr>\n",
       "      <th>334712</th>\n",
       "      <td>243414</td>\n",
       "      <td>155469</td>\n",
       "      <td>713</td>\n",
       "      <td>85</td>\n",
       "      <td>28099</td>\n",
       "    </tr>\n",
       "    <tr>\n",
       "      <th>334713</th>\n",
       "      <td>243415</td>\n",
       "      <td>4733</td>\n",
       "      <td>716</td>\n",
       "      <td>62</td>\n",
       "      <td>4046</td>\n",
       "    </tr>\n",
       "    <tr>\n",
       "      <th>334714</th>\n",
       "      <td>243416</td>\n",
       "      <td>12202</td>\n",
       "      <td>793</td>\n",
       "      <td>62</td>\n",
       "      <td>6574</td>\n",
       "    </tr>\n",
       "  </tbody>\n",
       "</table>\n",
       "</div>"
      ],
      "text/plain": [
       "         cl_id   lc_id  la_id  ld_id  lb_id\n",
       "334710  243412  139771    713     58  27466\n",
       "334711  243413  136769    713     63  27341\n",
       "334712  243414  155469    713     85  28099\n",
       "334713  243415    4733    716     62   4046\n",
       "334714  243416   12202    793     62   6574"
      ]
     },
     "execution_count": 37,
     "metadata": {},
     "output_type": "execute_result"
    }
   ],
   "source": [
    "crime_location.drop_duplicates(subset=['lc_id','la_id','ld_id','lb_id'],inplace=True)\n",
    "crime_location.insert(0,'cl_id',range(1,1+len(crime_location)))\n",
    "crime_location.tail()"
   ]
  },
  {
   "cell_type": "code",
   "execution_count": 38,
   "metadata": {},
   "outputs": [],
   "source": [
    "crime_location = crime_location[['cl_id','la_id','lb_id','lc_id','ld_id']]"
   ]
  },
  {
   "cell_type": "code",
   "execution_count": 39,
   "metadata": {},
   "outputs": [
    {
     "data": {
      "text/html": [
       "<div>\n",
       "<style scoped>\n",
       "    .dataframe tbody tr th:only-of-type {\n",
       "        vertical-align: middle;\n",
       "    }\n",
       "\n",
       "    .dataframe tbody tr th {\n",
       "        vertical-align: top;\n",
       "    }\n",
       "\n",
       "    .dataframe thead th {\n",
       "        text-align: right;\n",
       "    }\n",
       "</style>\n",
       "<table border=\"1\" class=\"dataframe\">\n",
       "  <thead>\n",
       "    <tr style=\"text-align: right;\">\n",
       "      <th></th>\n",
       "      <th>cl_id</th>\n",
       "      <th>la_id</th>\n",
       "      <th>lb_id</th>\n",
       "      <th>lc_id</th>\n",
       "      <th>ld_id</th>\n",
       "    </tr>\n",
       "  </thead>\n",
       "  <tbody>\n",
       "    <tr>\n",
       "      <th>334710</th>\n",
       "      <td>243412</td>\n",
       "      <td>713</td>\n",
       "      <td>27466</td>\n",
       "      <td>139771</td>\n",
       "      <td>58</td>\n",
       "    </tr>\n",
       "    <tr>\n",
       "      <th>334711</th>\n",
       "      <td>243413</td>\n",
       "      <td>713</td>\n",
       "      <td>27341</td>\n",
       "      <td>136769</td>\n",
       "      <td>63</td>\n",
       "    </tr>\n",
       "    <tr>\n",
       "      <th>334712</th>\n",
       "      <td>243414</td>\n",
       "      <td>713</td>\n",
       "      <td>28099</td>\n",
       "      <td>155469</td>\n",
       "      <td>85</td>\n",
       "    </tr>\n",
       "    <tr>\n",
       "      <th>334713</th>\n",
       "      <td>243415</td>\n",
       "      <td>716</td>\n",
       "      <td>4046</td>\n",
       "      <td>4733</td>\n",
       "      <td>62</td>\n",
       "    </tr>\n",
       "    <tr>\n",
       "      <th>334714</th>\n",
       "      <td>243416</td>\n",
       "      <td>793</td>\n",
       "      <td>6574</td>\n",
       "      <td>12202</td>\n",
       "      <td>62</td>\n",
       "    </tr>\n",
       "  </tbody>\n",
       "</table>\n",
       "</div>"
      ],
      "text/plain": [
       "         cl_id  la_id  lb_id   lc_id  ld_id\n",
       "334710  243412    713  27466  139771     58\n",
       "334711  243413    713  27341  136769     63\n",
       "334712  243414    713  28099  155469     85\n",
       "334713  243415    716   4046    4733     62\n",
       "334714  243416    793   6574   12202     62"
      ]
     },
     "execution_count": 39,
     "metadata": {},
     "output_type": "execute_result"
    }
   ],
   "source": [
    "crime_location.tail()"
   ]
  },
  {
   "cell_type": "code",
   "execution_count": 40,
   "metadata": {},
   "outputs": [],
   "source": [
    "df1 = pd.merge(df1, crime_location, on=['lc_id','la_id','ld_id','lb_id'])"
   ]
  },
  {
   "cell_type": "code",
   "execution_count": 41,
   "metadata": {},
   "outputs": [
    {
     "data": {
      "text/plain": [
       "Index(['Unnamed: 0', 'ID', 'Case Number', 'Date', 'Block', 'IUCR',\n",
       "       'Primary Type', 'Description', 'Location Description', 'Arrest',\n",
       "       'Domestic', 'Beat', 'District', 'Ward', 'Community Area', 'FBI Code',\n",
       "       'X Coordinate', 'Y Coordinate', 'Year', 'Updated On', 'Latitude',\n",
       "       'Longitude', 'Location', 'lb_id', 'ld_id', 'la_id', 'lc_id', 'cl_id'],\n",
       "      dtype='object')"
      ]
     },
     "execution_count": 41,
     "metadata": {},
     "output_type": "execute_result"
    }
   ],
   "source": [
    "df1.columns"
   ]
  },
  {
   "cell_type": "code",
   "execution_count": 42,
   "metadata": {},
   "outputs": [
    {
     "data": {
      "text/html": [
       "<div>\n",
       "<style scoped>\n",
       "    .dataframe tbody tr th:only-of-type {\n",
       "        vertical-align: middle;\n",
       "    }\n",
       "\n",
       "    .dataframe tbody tr th {\n",
       "        vertical-align: top;\n",
       "    }\n",
       "\n",
       "    .dataframe thead th {\n",
       "        text-align: right;\n",
       "    }\n",
       "</style>\n",
       "<table border=\"1\" class=\"dataframe\">\n",
       "  <thead>\n",
       "    <tr style=\"text-align: right;\">\n",
       "      <th></th>\n",
       "      <th>IUCR</th>\n",
       "      <th>FBI Code</th>\n",
       "      <th>Primary Type</th>\n",
       "      <th>Description</th>\n",
       "    </tr>\n",
       "  </thead>\n",
       "  <tbody>\n",
       "    <tr>\n",
       "      <th>334710</th>\n",
       "      <td>820</td>\n",
       "      <td>6</td>\n",
       "      <td>THEFT</td>\n",
       "      <td>$500 AND UNDER</td>\n",
       "    </tr>\n",
       "    <tr>\n",
       "      <th>334711</th>\n",
       "      <td>820</td>\n",
       "      <td>6</td>\n",
       "      <td>THEFT</td>\n",
       "      <td>$500 AND UNDER</td>\n",
       "    </tr>\n",
       "    <tr>\n",
       "      <th>334712</th>\n",
       "      <td>1121</td>\n",
       "      <td>10</td>\n",
       "      <td>DECEPTIVE PRACTICE</td>\n",
       "      <td>COUNTERFEITING DOCUMENT</td>\n",
       "    </tr>\n",
       "    <tr>\n",
       "      <th>334713</th>\n",
       "      <td>810</td>\n",
       "      <td>6</td>\n",
       "      <td>THEFT</td>\n",
       "      <td>OVER $500</td>\n",
       "    </tr>\n",
       "    <tr>\n",
       "      <th>334714</th>\n",
       "      <td>810</td>\n",
       "      <td>6</td>\n",
       "      <td>THEFT</td>\n",
       "      <td>OVER $500</td>\n",
       "    </tr>\n",
       "  </tbody>\n",
       "</table>\n",
       "</div>"
      ],
      "text/plain": [
       "        IUCR FBI Code        Primary Type              Description\n",
       "334710   820        6               THEFT           $500 AND UNDER\n",
       "334711   820        6               THEFT           $500 AND UNDER\n",
       "334712  1121       10  DECEPTIVE PRACTICE  COUNTERFEITING DOCUMENT\n",
       "334713   810        6               THEFT                OVER $500\n",
       "334714   810        6               THEFT                OVER $500"
      ]
     },
     "execution_count": 42,
     "metadata": {},
     "output_type": "execute_result"
    }
   ],
   "source": [
    "crime_code = pd.DataFrame(df1.iloc[:,[5,15,6,7]])\n",
    "crime_code.tail()"
   ]
  },
  {
   "cell_type": "code",
   "execution_count": 43,
   "metadata": {},
   "outputs": [
    {
     "data": {
      "text/html": [
       "<div>\n",
       "<style scoped>\n",
       "    .dataframe tbody tr th:only-of-type {\n",
       "        vertical-align: middle;\n",
       "    }\n",
       "\n",
       "    .dataframe tbody tr th {\n",
       "        vertical-align: top;\n",
       "    }\n",
       "\n",
       "    .dataframe thead th {\n",
       "        text-align: right;\n",
       "    }\n",
       "</style>\n",
       "<table border=\"1\" class=\"dataframe\">\n",
       "  <thead>\n",
       "    <tr style=\"text-align: right;\">\n",
       "      <th></th>\n",
       "      <th>IUCR</th>\n",
       "      <th>FBI Code</th>\n",
       "      <th>Primary Type</th>\n",
       "      <th>Description</th>\n",
       "    </tr>\n",
       "  </thead>\n",
       "  <tbody>\n",
       "    <tr>\n",
       "      <th>310562</th>\n",
       "      <td>2019</td>\n",
       "      <td>18</td>\n",
       "      <td>NARCOTICS</td>\n",
       "      <td>MANU/DELIVER:HEROIN(BLACK TAR)</td>\n",
       "    </tr>\n",
       "    <tr>\n",
       "      <th>324200</th>\n",
       "      <td>142</td>\n",
       "      <td>01B</td>\n",
       "      <td>HOMICIDE</td>\n",
       "      <td>RECKLESS HOMICIDE</td>\n",
       "    </tr>\n",
       "    <tr>\n",
       "      <th>330048</th>\n",
       "      <td>2240</td>\n",
       "      <td>22</td>\n",
       "      <td>LIQUOR LAW VIOLATION</td>\n",
       "      <td>MINOR MISREPRESENT AGE</td>\n",
       "    </tr>\n",
       "    <tr>\n",
       "      <th>331018</th>\n",
       "      <td>4860</td>\n",
       "      <td>26</td>\n",
       "      <td>OTHER OFFENSE</td>\n",
       "      <td>BOARD PLANE WITH WEAPON</td>\n",
       "    </tr>\n",
       "    <tr>\n",
       "      <th>332826</th>\n",
       "      <td>1335</td>\n",
       "      <td>26</td>\n",
       "      <td>CRIMINAL TRESPASS</td>\n",
       "      <td>TO AIRPORT</td>\n",
       "    </tr>\n",
       "  </tbody>\n",
       "</table>\n",
       "</div>"
      ],
      "text/plain": [
       "        IUCR FBI Code          Primary Type                     Description\n",
       "310562  2019       18             NARCOTICS  MANU/DELIVER:HEROIN(BLACK TAR)\n",
       "324200   142      01B              HOMICIDE               RECKLESS HOMICIDE\n",
       "330048  2240       22  LIQUOR LAW VIOLATION          MINOR MISREPRESENT AGE\n",
       "331018  4860       26         OTHER OFFENSE         BOARD PLANE WITH WEAPON\n",
       "332826  1335       26     CRIMINAL TRESPASS                      TO AIRPORT"
      ]
     },
     "execution_count": 43,
     "metadata": {},
     "output_type": "execute_result"
    }
   ],
   "source": [
    "crime_code.drop_duplicates(subset=['IUCR','FBI Code'],inplace=True)\n",
    "crime_code.tail()"
   ]
  },
  {
   "cell_type": "code",
   "execution_count": 44,
   "metadata": {},
   "outputs": [
    {
     "data": {
      "text/html": [
       "<div>\n",
       "<style scoped>\n",
       "    .dataframe tbody tr th:only-of-type {\n",
       "        vertical-align: middle;\n",
       "    }\n",
       "\n",
       "    .dataframe tbody tr th {\n",
       "        vertical-align: top;\n",
       "    }\n",
       "\n",
       "    .dataframe thead th {\n",
       "        text-align: right;\n",
       "    }\n",
       "</style>\n",
       "<table border=\"1\" class=\"dataframe\">\n",
       "  <thead>\n",
       "    <tr style=\"text-align: right;\">\n",
       "      <th></th>\n",
       "      <th>ID</th>\n",
       "      <th>IUCR</th>\n",
       "      <th>FBI Code</th>\n",
       "      <th>cl_id</th>\n",
       "      <th>Unnamed: 0</th>\n",
       "      <th>Case Number</th>\n",
       "      <th>Arrest</th>\n",
       "      <th>Domestic</th>\n",
       "      <th>Date</th>\n",
       "      <th>Year</th>\n",
       "      <th>Updated On</th>\n",
       "    </tr>\n",
       "  </thead>\n",
       "  <tbody>\n",
       "    <tr>\n",
       "      <th>0</th>\n",
       "      <td>10433096</td>\n",
       "      <td>1562</td>\n",
       "      <td>17</td>\n",
       "      <td>1</td>\n",
       "      <td>47398</td>\n",
       "      <td>HZ170962</td>\n",
       "      <td>True</td>\n",
       "      <td>False</td>\n",
       "      <td>01-01-2012 00:00</td>\n",
       "      <td>2012</td>\n",
       "      <td>04-02-2016 06:33</td>\n",
       "    </tr>\n",
       "    <tr>\n",
       "      <th>1</th>\n",
       "      <td>10433124</td>\n",
       "      <td>1544</td>\n",
       "      <td>17</td>\n",
       "      <td>1</td>\n",
       "      <td>47420</td>\n",
       "      <td>HZ170983</td>\n",
       "      <td>True</td>\n",
       "      <td>False</td>\n",
       "      <td>01-01-2012 00:00</td>\n",
       "      <td>2012</td>\n",
       "      <td>04-02-2016 06:33</td>\n",
       "    </tr>\n",
       "    <tr>\n",
       "      <th>2</th>\n",
       "      <td>8539915</td>\n",
       "      <td>890</td>\n",
       "      <td>6</td>\n",
       "      <td>1</td>\n",
       "      <td>2481315</td>\n",
       "      <td>HV216276</td>\n",
       "      <td>False</td>\n",
       "      <td>False</td>\n",
       "      <td>23-03-2012 14:00</td>\n",
       "      <td>2012</td>\n",
       "      <td>04-02-2016 06:33</td>\n",
       "    </tr>\n",
       "    <tr>\n",
       "      <th>3</th>\n",
       "      <td>8638377</td>\n",
       "      <td>486</td>\n",
       "      <td>08B</td>\n",
       "      <td>2</td>\n",
       "      <td>2542746</td>\n",
       "      <td>HV312790</td>\n",
       "      <td>False</td>\n",
       "      <td>True</td>\n",
       "      <td>31-05-2012 20:35</td>\n",
       "      <td>2012</td>\n",
       "      <td>04-02-2016 06:33</td>\n",
       "    </tr>\n",
       "    <tr>\n",
       "      <th>4</th>\n",
       "      <td>8641074</td>\n",
       "      <td>560</td>\n",
       "      <td>08A</td>\n",
       "      <td>2</td>\n",
       "      <td>2544718</td>\n",
       "      <td>HV315993</td>\n",
       "      <td>False</td>\n",
       "      <td>True</td>\n",
       "      <td>02-06-2012 22:45</td>\n",
       "      <td>2012</td>\n",
       "      <td>04-02-2016 06:33</td>\n",
       "    </tr>\n",
       "  </tbody>\n",
       "</table>\n",
       "</div>"
      ],
      "text/plain": [
       "         ID  IUCR FBI Code  cl_id  Unnamed: 0 Case Number  Arrest  Domestic  \\\n",
       "0  10433096  1562       17      1       47398    HZ170962    True     False   \n",
       "1  10433124  1544       17      1       47420    HZ170983    True     False   \n",
       "2   8539915   890        6      1     2481315    HV216276   False     False   \n",
       "3   8638377   486      08B      2     2542746    HV312790   False      True   \n",
       "4   8641074   560      08A      2     2544718    HV315993   False      True   \n",
       "\n",
       "               Date  Year        Updated On  \n",
       "0  01-01-2012 00:00  2012  04-02-2016 06:33  \n",
       "1  01-01-2012 00:00  2012  04-02-2016 06:33  \n",
       "2  23-03-2012 14:00  2012  04-02-2016 06:33  \n",
       "3  31-05-2012 20:35  2012  04-02-2016 06:33  \n",
       "4  02-06-2012 22:45  2012  04-02-2016 06:33  "
      ]
     },
     "execution_count": 44,
     "metadata": {},
     "output_type": "execute_result"
    }
   ],
   "source": [
    "crime_record = pd.DataFrame(df1.iloc[:,[1,5,15,-1,0,2,9,10,3,18,19]])\n",
    "crime_record.head()"
   ]
  },
  {
   "cell_type": "code",
   "execution_count": 45,
   "metadata": {},
   "outputs": [],
   "source": [
    "crime_record.rename(columns={\"Unnamed: 0\":\"Unnamed_id\"},inplace=True)"
   ]
  },
  {
   "cell_type": "code",
   "execution_count": 46,
   "metadata": {},
   "outputs": [],
   "source": [
    "crime_record['Date'] = pd.to_datetime(crime_record['Date'])"
   ]
  },
  {
   "cell_type": "code",
   "execution_count": 47,
   "metadata": {},
   "outputs": [],
   "source": [
    "crime_record['Updated On'] = pd.to_datetime(crime_record['Updated On'])"
   ]
  },
  {
   "cell_type": "code",
   "execution_count": 48,
   "metadata": {},
   "outputs": [
    {
     "data": {
      "text/html": [
       "<div>\n",
       "<style scoped>\n",
       "    .dataframe tbody tr th:only-of-type {\n",
       "        vertical-align: middle;\n",
       "    }\n",
       "\n",
       "    .dataframe tbody tr th {\n",
       "        vertical-align: top;\n",
       "    }\n",
       "\n",
       "    .dataframe thead th {\n",
       "        text-align: right;\n",
       "    }\n",
       "</style>\n",
       "<table border=\"1\" class=\"dataframe\">\n",
       "  <thead>\n",
       "    <tr style=\"text-align: right;\">\n",
       "      <th></th>\n",
       "      <th>ID</th>\n",
       "      <th>IUCR</th>\n",
       "      <th>FBI Code</th>\n",
       "      <th>cl_id</th>\n",
       "      <th>Unnamed_id</th>\n",
       "      <th>Case Number</th>\n",
       "      <th>Arrest</th>\n",
       "      <th>Domestic</th>\n",
       "      <th>Date</th>\n",
       "      <th>Year</th>\n",
       "      <th>Updated On</th>\n",
       "    </tr>\n",
       "  </thead>\n",
       "  <tbody>\n",
       "    <tr>\n",
       "      <th>0</th>\n",
       "      <td>10433096</td>\n",
       "      <td>1562</td>\n",
       "      <td>17</td>\n",
       "      <td>1</td>\n",
       "      <td>47398</td>\n",
       "      <td>HZ170962</td>\n",
       "      <td>True</td>\n",
       "      <td>False</td>\n",
       "      <td>2012-01-01 00:00:00</td>\n",
       "      <td>2012</td>\n",
       "      <td>2016-04-02 06:33:00</td>\n",
       "    </tr>\n",
       "    <tr>\n",
       "      <th>1</th>\n",
       "      <td>10433124</td>\n",
       "      <td>1544</td>\n",
       "      <td>17</td>\n",
       "      <td>1</td>\n",
       "      <td>47420</td>\n",
       "      <td>HZ170983</td>\n",
       "      <td>True</td>\n",
       "      <td>False</td>\n",
       "      <td>2012-01-01 00:00:00</td>\n",
       "      <td>2012</td>\n",
       "      <td>2016-04-02 06:33:00</td>\n",
       "    </tr>\n",
       "    <tr>\n",
       "      <th>2</th>\n",
       "      <td>8539915</td>\n",
       "      <td>890</td>\n",
       "      <td>6</td>\n",
       "      <td>1</td>\n",
       "      <td>2481315</td>\n",
       "      <td>HV216276</td>\n",
       "      <td>False</td>\n",
       "      <td>False</td>\n",
       "      <td>2012-03-23 14:00:00</td>\n",
       "      <td>2012</td>\n",
       "      <td>2016-04-02 06:33:00</td>\n",
       "    </tr>\n",
       "    <tr>\n",
       "      <th>3</th>\n",
       "      <td>8638377</td>\n",
       "      <td>486</td>\n",
       "      <td>08B</td>\n",
       "      <td>2</td>\n",
       "      <td>2542746</td>\n",
       "      <td>HV312790</td>\n",
       "      <td>False</td>\n",
       "      <td>True</td>\n",
       "      <td>2012-05-31 20:35:00</td>\n",
       "      <td>2012</td>\n",
       "      <td>2016-04-02 06:33:00</td>\n",
       "    </tr>\n",
       "    <tr>\n",
       "      <th>4</th>\n",
       "      <td>8641074</td>\n",
       "      <td>560</td>\n",
       "      <td>08A</td>\n",
       "      <td>2</td>\n",
       "      <td>2544718</td>\n",
       "      <td>HV315993</td>\n",
       "      <td>False</td>\n",
       "      <td>True</td>\n",
       "      <td>2012-02-06 22:45:00</td>\n",
       "      <td>2012</td>\n",
       "      <td>2016-04-02 06:33:00</td>\n",
       "    </tr>\n",
       "  </tbody>\n",
       "</table>\n",
       "</div>"
      ],
      "text/plain": [
       "         ID  IUCR FBI Code  cl_id  Unnamed_id Case Number  Arrest  Domestic  \\\n",
       "0  10433096  1562       17      1       47398    HZ170962    True     False   \n",
       "1  10433124  1544       17      1       47420    HZ170983    True     False   \n",
       "2   8539915   890        6      1     2481315    HV216276   False     False   \n",
       "3   8638377   486      08B      2     2542746    HV312790   False      True   \n",
       "4   8641074   560      08A      2     2544718    HV315993   False      True   \n",
       "\n",
       "                 Date  Year          Updated On  \n",
       "0 2012-01-01 00:00:00  2012 2016-04-02 06:33:00  \n",
       "1 2012-01-01 00:00:00  2012 2016-04-02 06:33:00  \n",
       "2 2012-03-23 14:00:00  2012 2016-04-02 06:33:00  \n",
       "3 2012-05-31 20:35:00  2012 2016-04-02 06:33:00  \n",
       "4 2012-02-06 22:45:00  2012 2016-04-02 06:33:00  "
      ]
     },
     "execution_count": 48,
     "metadata": {},
     "output_type": "execute_result"
    }
   ],
   "source": [
    "crime_record.head()"
   ]
  },
  {
   "cell_type": "code",
   "execution_count": 50,
   "metadata": {},
   "outputs": [
    {
     "name": "stdout",
     "output_type": "stream",
     "text": [
      "['lb_id', 'Block']\n",
      "%s,%s,\n"
     ]
    }
   ],
   "source": [
    "print(list(block))\n",
    "s = ''\n",
    "for i in list(block):\n",
    "    s+= '%s,'\n",
    "print(s)"
   ]
  },
  {
   "cell_type": "code",
   "execution_count": 51,
   "metadata": {},
   "outputs": [
    {
     "name": "stdout",
     "output_type": "stream",
     "text": [
      "INSERT INTO myqg3.location_block (lb_id,Block) VALUES(%s, %s)\n"
     ]
    }
   ],
   "source": [
    "import numpy as np\n",
    "register_adapter(np.int64,AsIs)\n",
    "register_adapter(np.float64,AsIs)\n",
    "music_info = block.where(pd.notnull(block), None)\n",
    "INSERT_SQL = 'INSERT INTO myqg3.location_block'\n",
    "INSERT_SQL += ' (lb_id,Block) VALUES'\n",
    "INSERT_SQL += '(%s, %s)'\n",
    "print(INSERT_SQL)\n",
    "with connection, connection.cursor() as cursor:\n",
    "    for row in block.itertuples(index = False, name = None):\n",
    "        cursor.execute(INSERT_SQL, row)"
   ]
  },
  {
   "cell_type": "code",
   "execution_count": 52,
   "metadata": {},
   "outputs": [
    {
     "name": "stdout",
     "output_type": "stream",
     "text": [
      "['la_id', 'Beat', 'District', 'Ward', 'Community Area']\n",
      "%s,%s,%s,%s,%s,\n"
     ]
    }
   ],
   "source": [
    "print(list(location_area))\n",
    "s = ''\n",
    "for i in list(location_area):\n",
    "    s+= '%s,'\n",
    "print(s)"
   ]
  },
  {
   "cell_type": "code",
   "execution_count": 53,
   "metadata": {},
   "outputs": [
    {
     "name": "stdout",
     "output_type": "stream",
     "text": [
      "INSERT INTO myqg3.location_area (la_id, beat, district, ward, community_area) VALUES(%s,%s,%s,%s,%s)\n"
     ]
    }
   ],
   "source": [
    "import numpy as np\n",
    "register_adapter(np.int64,AsIs)\n",
    "register_adapter(np.float64,AsIs)\n",
    "music_info = location_area.where(pd.notnull(location_area), None)\n",
    "INSERT_SQL = 'INSERT INTO myqg3.location_area'\n",
    "INSERT_SQL += ' (la_id, beat, district, ward, community_area) VALUES'\n",
    "INSERT_SQL += '(%s,%s,%s,%s,%s)'\n",
    "print(INSERT_SQL)\n",
    "with connection, connection.cursor() as cursor:\n",
    "    for row in location_area.itertuples(index = False, name = None):\n",
    "        cursor.execute(INSERT_SQL, row)"
   ]
  },
  {
   "cell_type": "code",
   "execution_count": 54,
   "metadata": {},
   "outputs": [
    {
     "name": "stdout",
     "output_type": "stream",
     "text": [
      "['lc_id', 'X Coordinate', 'Y Coordinate', 'Latitude', 'Longitude', 'Location']\n",
      "%s,%s,%s,%s,%s,%s,\n"
     ]
    }
   ],
   "source": [
    "print(list(location_coordinates))\n",
    "s = ''\n",
    "for i in list(location_coordinates):\n",
    "    s+= '%s,'\n",
    "print(s)"
   ]
  },
  {
   "cell_type": "code",
   "execution_count": 55,
   "metadata": {},
   "outputs": [
    {
     "name": "stdout",
     "output_type": "stream",
     "text": [
      "INSERT INTO myqg3.location_coordinate (lc_id, x_coordinate, y_coordinate, latitude, longitude, location) VALUES(%s,%s,%s,%s,%s,%s)\n"
     ]
    }
   ],
   "source": [
    "import numpy as np\n",
    "register_adapter(np.int64,AsIs)\n",
    "register_adapter(np.float64,AsIs)\n",
    "music_info = location_coordinates.where(pd.notnull(location_coordinates), None)\n",
    "INSERT_SQL = 'INSERT INTO myqg3.location_coordinate'\n",
    "INSERT_SQL += ' (lc_id, x_coordinate, y_coordinate, latitude, longitude, location) VALUES'\n",
    "INSERT_SQL += '(%s,%s,%s,%s,%s,%s)'\n",
    "print(INSERT_SQL)\n",
    "with connection, connection.cursor() as cursor:\n",
    "    for row in location_coordinates.itertuples(index = False, name = None):\n",
    "        cursor.execute(INSERT_SQL, row)"
   ]
  },
  {
   "cell_type": "code",
   "execution_count": 56,
   "metadata": {},
   "outputs": [
    {
     "name": "stdout",
     "output_type": "stream",
     "text": [
      "['ld_id', 'Location Description']\n",
      "%s,%s,\n"
     ]
    }
   ],
   "source": [
    "print(list(location_description))\n",
    "s = ''\n",
    "for i in list(location_description):\n",
    "    s+= '%s,'\n",
    "print(s)"
   ]
  },
  {
   "cell_type": "code",
   "execution_count": 57,
   "metadata": {},
   "outputs": [
    {
     "name": "stdout",
     "output_type": "stream",
     "text": [
      "INSERT INTO myqg3.location_description (ld_id, location_description) VALUES(%s,%s)\n"
     ]
    }
   ],
   "source": [
    "import numpy as np\n",
    "register_adapter(np.int64,AsIs)\n",
    "register_adapter(np.float64,AsIs)\n",
    "music_info = location_description.where(pd.notnull(location_description), None)\n",
    "INSERT_SQL = 'INSERT INTO myqg3.location_description'\n",
    "INSERT_SQL += ' (ld_id, location_description) VALUES'\n",
    "INSERT_SQL += '(%s,%s)'\n",
    "print(INSERT_SQL)\n",
    "with connection, connection.cursor() as cursor:\n",
    "    for row in location_description.itertuples(index = False, name = None):\n",
    "        cursor.execute(INSERT_SQL, row)"
   ]
  },
  {
   "cell_type": "code",
   "execution_count": 58,
   "metadata": {},
   "outputs": [
    {
     "name": "stdout",
     "output_type": "stream",
     "text": [
      "['cl_id', 'la_id', 'lb_id', 'lc_id', 'ld_id']\n",
      "%s,%s,%s,%s,%s,\n"
     ]
    }
   ],
   "source": [
    "print(list(crime_location))\n",
    "s = ''\n",
    "for i in list(crime_location):\n",
    "    s+= '%s,'\n",
    "print(s)"
   ]
  },
  {
   "cell_type": "code",
   "execution_count": 59,
   "metadata": {},
   "outputs": [
    {
     "name": "stdout",
     "output_type": "stream",
     "text": [
      "INSERT INTO myqg3.crime_location (cl_id, la_id, lb_id, lc_id, ld_id) VALUES(%s,%s,%s,%s,%s)\n"
     ]
    }
   ],
   "source": [
    "import numpy as np\n",
    "register_adapter(np.int64,AsIs)\n",
    "register_adapter(np.float64,AsIs)\n",
    "music_info = crime_location.where(pd.notnull(crime_location), None)\n",
    "INSERT_SQL = 'INSERT INTO myqg3.crime_location'\n",
    "INSERT_SQL += ' (cl_id, la_id, lb_id, lc_id, ld_id) VALUES'\n",
    "INSERT_SQL += '(%s,%s,%s,%s,%s)'\n",
    "print(INSERT_SQL)\n",
    "with connection, connection.cursor() as cursor:\n",
    "    for row in crime_location.itertuples(index = False, name = None):\n",
    "        cursor.execute(INSERT_SQL, row)"
   ]
  },
  {
   "cell_type": "code",
   "execution_count": 60,
   "metadata": {},
   "outputs": [
    {
     "name": "stdout",
     "output_type": "stream",
     "text": [
      "['IUCR', 'FBI Code', 'Primary Type', 'Description']\n",
      "%s,%s,%s,%s,\n"
     ]
    }
   ],
   "source": [
    "print(list(crime_code))\n",
    "s = ''\n",
    "for i in list(crime_code):\n",
    "    s+= '%s,'\n",
    "print(s)"
   ]
  },
  {
   "cell_type": "code",
   "execution_count": 62,
   "metadata": {},
   "outputs": [
    {
     "name": "stdout",
     "output_type": "stream",
     "text": [
      "INSERT INTO myqg3.crime_code (iucr, fbi_code, primary_type, description) VALUES(%s,%s,%s,%s)\n"
     ]
    }
   ],
   "source": [
    "import numpy as np\n",
    "register_adapter(np.int64,AsIs)\n",
    "register_adapter(np.float64,AsIs)\n",
    "music_info = crime_code.where(pd.notnull(crime_code), None)\n",
    "INSERT_SQL = 'INSERT INTO myqg3.crime_code'\n",
    "INSERT_SQL += ' (iucr, fbi_code, primary_type, description) VALUES'\n",
    "INSERT_SQL += '(%s,%s,%s,%s)'\n",
    "print(INSERT_SQL)\n",
    "with connection, connection.cursor() as cursor:\n",
    "    for row in crime_code.itertuples(index = False, name = None):\n",
    "        cursor.execute(INSERT_SQL, row)"
   ]
  },
  {
   "cell_type": "code",
   "execution_count": 63,
   "metadata": {},
   "outputs": [
    {
     "name": "stdout",
     "output_type": "stream",
     "text": [
      "['ID', 'IUCR', 'FBI Code', 'cl_id', 'Unnamed_id', 'Case Number', 'Arrest', 'Domestic', 'Date', 'Year', 'Updated On']\n",
      "%s,%s,%s,%s,%s,%s,%s,%s,%s,%s,%s,\n"
     ]
    }
   ],
   "source": [
    "print(list(crime_record))\n",
    "s = ''\n",
    "for i in list(crime_record):\n",
    "    s+= '%s,'\n",
    "print(s)"
   ]
  },
  {
   "cell_type": "code",
   "execution_count": 64,
   "metadata": {},
   "outputs": [
    {
     "name": "stdout",
     "output_type": "stream",
     "text": [
      "INSERT INTO myqg3.crime_record (id, iucr, fbi_code, cl_id, unnamed_id, case_number, arrest, domestic, crime_date, year, updated_on) VALUES(%s,%s,%s,%s,%s,%s,%s,%s,%s,%s,%s)\n"
     ]
    }
   ],
   "source": [
    "import numpy as np\n",
    "register_adapter(np.int64,AsIs)\n",
    "register_adapter(np.float64,AsIs)\n",
    "music_info = crime_record.where(pd.notnull(crime_record), None)\n",
    "INSERT_SQL = 'INSERT INTO myqg3.crime_record'\n",
    "INSERT_SQL += ' (id, iucr, fbi_code, cl_id, unnamed_id, case_number, arrest, domestic, crime_date, year, updated_on) VALUES'\n",
    "INSERT_SQL += '(%s,%s,%s,%s,%s,%s,%s,%s,%s,%s,%s)'\n",
    "print(INSERT_SQL)\n",
    "with connection, connection.cursor() as cursor:\n",
    "    for row in crime_record.itertuples(index = False, name = None):\n",
    "        cursor.execute(INSERT_SQL, row)"
   ]
  },
  {
   "cell_type": "code",
   "execution_count": null,
   "metadata": {},
   "outputs": [],
   "source": []
  },
  {
   "cell_type": "code",
   "execution_count": null,
   "metadata": {},
   "outputs": [],
   "source": []
  },
  {
   "cell_type": "code",
   "execution_count": null,
   "metadata": {},
   "outputs": [],
   "source": []
  },
  {
   "cell_type": "code",
   "execution_count": null,
   "metadata": {},
   "outputs": [],
   "source": []
  },
  {
   "cell_type": "code",
   "execution_count": null,
   "metadata": {},
   "outputs": [],
   "source": []
  },
  {
   "cell_type": "markdown",
   "metadata": {},
   "source": [
    "## 2.2 Show the table's definition for each table using psql or querying the information_schema.colums catalog\n",
    "\n",
    "* Add additional cells if required"
   ]
  },
  {
   "cell_type": "code",
   "execution_count": null,
   "metadata": {},
   "outputs": [],
   "source": []
  },
  {
   "cell_type": "code",
   "execution_count": null,
   "metadata": {},
   "outputs": [],
   "source": [
    "dsa_student=> \\d crime_code\n",
    "                       Table \"myqg3.crime_code\"\n",
    "    Column    |         Type          | Collation | Nullable | Default\n",
    "--------------+-----------------------+-----------+----------+---------\n",
    " iucr         | character varying(50) |           | not null |\n",
    " fbi_code     | character varying(50) |           | not null |\n",
    " description  | character varying(50) |           |          |\n",
    " primary_type | character varying(50) |           |          |\n",
    "Indexes:\n",
    "    \"crime_code_pkey\" PRIMARY KEY, btree (iucr, fbi_code)\n",
    "Referenced by:\n",
    "    TABLE \"crime_record\" CONSTRAINT \"crime_code_pkey\" FOREIGN KEY (iucr, fbi_code) REFERENCES crime_code(iucr, fbi_code)"
   ]
  },
  {
   "cell_type": "code",
   "execution_count": null,
   "metadata": {},
   "outputs": [],
   "source": [
    "dsa_student=> \\d location_area\n",
    "                Table \"myqg3.location_area\"\n",
    "     Column     |  Type   | Collation | Nullable | Default\n",
    "----------------+---------+-----------+----------+---------\n",
    " la_id          | integer |           | not null |\n",
    " beat           | integer |           |          |\n",
    " district       | integer |           |          |\n",
    " ward           | integer |           |          |\n",
    " community_area | integer |           |          |\n",
    "Indexes:\n",
    "    \"location_area_pkey\" PRIMARY KEY, btree (la_id)\n",
    "Referenced by:\n",
    "    TABLE \"crime_location\" CONSTRAINT \"crime_location_la_id_fkey\" FOREIGN KEY (la_id) REFERENCES location_area(la_id)"
   ]
  },
  {
   "cell_type": "code",
   "execution_count": null,
   "metadata": {},
   "outputs": [],
   "source": [
    "dsa_student=> \\d location_block\n",
    "                   Table \"myqg3.location_block\"\n",
    " Column |          Type          | Collation | Nullable | Default\n",
    "--------+------------------------+-----------+----------+---------\n",
    " lb_id  | integer                |           | not null |\n",
    " block  | character varying(150) |           |          |\n",
    "Indexes:\n",
    "    \"location_block_pkey\" PRIMARY KEY, btree (lb_id)\n",
    "Referenced by:\n",
    "    TABLE \"crime_location\" CONSTRAINT \"crime_location_lb_id_fkey\" FOREIGN KEY (lb_id) REFERENCES location_block(lb_id)"
   ]
  },
  {
   "cell_type": "code",
   "execution_count": null,
   "metadata": {},
   "outputs": [],
   "source": [
    "dsa_student=> \\d location_area\n",
    "                Table \"myqg3.location_area\"\n",
    "     Column     |  Type   | Collation | Nullable | Default\n",
    "----------------+---------+-----------+----------+---------\n",
    " la_id          | integer |           | not null |\n",
    " beat           | integer |           |          |\n",
    " district       | integer |           |          |\n",
    " ward           | integer |           |          |\n",
    " community_area | integer |           |          |\n",
    "Indexes:\n",
    "    \"location_area_pkey\" PRIMARY KEY, btree (la_id)\n",
    "Referenced by:\n",
    "    TABLE \"crime_location\" CONSTRAINT \"crime_location_la_id_fkey\" FOREIGN KEY (la_id) REFERENCES location_area(la_id)"
   ]
  },
  {
   "cell_type": "code",
   "execution_count": null,
   "metadata": {},
   "outputs": [],
   "source": [
    "dsa_student=> \\d location_coordinate\n",
    "                   Table \"myqg3.location_coordinate\"\n",
    "    Column    |         Type          | Collation | Nullable | Default\n",
    "--------------+-----------------------+-----------+----------+---------\n",
    " lc_id        | integer               |           | not null |\n",
    " x_coordinate | integer               |           |          |\n",
    " y_coordinate | integer               |           |          |\n",
    " latitude     | double precision      |           |          |\n",
    " longitude    | double precision      |           |          |\n",
    " location     | character varying(50) |           |          |\n",
    "Indexes:\n",
    "    \"location_coordinate_pkey\" PRIMARY KEY, btree (lc_id)\n",
    "Referenced by:\n",
    "    TABLE \"crime_location\" CONSTRAINT \"crime_location_lc_id_fkey\" FOREIGN KEY (lc_id) REFERENCES location_coordinate(lc_id)"
   ]
  },
  {
   "cell_type": "code",
   "execution_count": null,
   "metadata": {},
   "outputs": [],
   "source": [
    "dsa_student=> \\d location_description\n",
    "                      Table \"myqg3.location_description\"\n",
    "        Column        |         Type          | Collation | Nullable | Default\n",
    "----------------------+-----------------------+-----------+----------+---------\n",
    " ld_id                | integer               |           | not null |\n",
    " location_description | character varying(50) |           |          |\n",
    "Indexes:\n",
    "    \"location_description_pkey\" PRIMARY KEY, btree (ld_id)\n",
    "Referenced by:\n",
    "    TABLE \"crime_location\" CONSTRAINT \"crime_location_ld_id_fkey\" FOREIGN KEY (ld_id) REFERENCES location_description(ld_id)"
   ]
  },
  {
   "cell_type": "code",
   "execution_count": null,
   "metadata": {},
   "outputs": [],
   "source": [
    "dsa_student=> \\d crime_location\n",
    "           Table \"myqg3.crime_location\"\n",
    " Column |  Type   | Collation | Nullable | Default\n",
    "--------+---------+-----------+----------+---------\n",
    " cl_id  | integer |           | not null |\n",
    " la_id  | integer |           |          |\n",
    " lb_id  | integer |           |          |\n",
    " lc_id  | integer |           |          |\n",
    " ld_id  | integer |           |          |\n",
    "Indexes:\n",
    "    \"crime_location_pkey\" PRIMARY KEY, btree (cl_id)\n",
    "Foreign-key constraints:\n",
    "    \"crime_location_la_id_fkey\" FOREIGN KEY (la_id) REFERENCES location_area(la_id)\n",
    "    \"crime_location_lb_id_fkey\" FOREIGN KEY (lb_id) REFERENCES location_block(lb_id)\n",
    "    \"crime_location_lc_id_fkey\" FOREIGN KEY (lc_id) REFERENCES location_coordinate(lc_id)\n",
    "    \"crime_location_ld_id_fkey\" FOREIGN KEY (ld_id) REFERENCES location_description(ld_id)\n",
    "Referenced by:\n",
    "    TABLE \"crime_record\" CONSTRAINT \"crime_record_cl_id_fkey\" FOREIGN KEY (cl_id)REFERENCES crime_location(cl_id)"
   ]
  },
  {
   "cell_type": "code",
   "execution_count": null,
   "metadata": {},
   "outputs": [],
   "source": [
    "\n",
    "dsa_student=> \\d crime_record\n",
    "                         Table \"myqg3.crime_record\"\n",
    "   Column    |            Type             | Collation | Nullable | Default\n",
    "-------------+-----------------------------+-----------+----------+---------\n",
    " id          | integer                     |           | not null |\n",
    " iucr        | character varying(50)       |           |          |\n",
    " fbi_code    | character varying(50)       |           |          |\n",
    " cl_id       | integer                     |           |          |\n",
    " unnamed_id  | integer                     |           |          |\n",
    " case_number | character varying(50)       |           |          |\n",
    " arrest      | character varying(10)       |           |          |\n",
    " domestic    | character varying(10)       |           |          |\n",
    " crime_date  | timestamp without time zone |           |          |\n",
    " year        | integer                     |           |          |\n",
    " updated_on  | timestamp without time zone |           |          |\n",
    "Indexes:\n",
    "    \"crime_record_pkey\" PRIMARY KEY, btree (id)\n",
    "Foreign-key constraints:\n",
    "    \"crime_code_pkey\" FOREIGN KEY (iucr, fbi_code) REFERENCES crime_code(iucr, fbi_code)\n",
    "    \"crime_record_cl_id_fkey\" FOREIGN KEY (cl_id) REFERENCES crime_location(cl_id)"
   ]
  },
  {
   "cell_type": "markdown",
   "metadata": {},
   "source": [
    "## 2.3 Load the data from the given csv file in Part 1 to the relations\n",
    "\n",
    "* Assuming there will be multiple relations, you need to extract a subsets of data from the original csv data. As Python may not be your first choice, you can use any languages to create subsets of data. Then store these data into the Module 8 exercises folder. \n",
    "* After curating the data use the load loading skillset gained from Module 6\n",
    "  * Copy and paste your command/query in the following cell or comment on what you have done to populate the data.\n",
    "  \n",
    "* Add additional cells if required"
   ]
  },
  {
   "cell_type": "code",
   "execution_count": null,
   "metadata": {},
   "outputs": [],
   "source": [
    "    \n",
    "    \n",
    "    \n",
    "    \n",
    "    \n",
    "    "
   ]
  },
  {
   "cell_type": "markdown",
   "metadata": {},
   "source": [
    "## 2.4 For each table, show the table name and number of rows using a sql query\n",
    "\n",
    "* Add additional cells if required"
   ]
  },
  {
   "cell_type": "raw",
   "metadata": {},
   "source": [
    "#Description and no of attributes about the columns has been mentioned above.\n",
    "#NO of rows are mentioned below for each table."
   ]
  },
  {
   "cell_type": "code",
   "execution_count": null,
   "metadata": {},
   "outputs": [],
   "source": [
    "%%sql\n",
    "dsa_student=> SELECT COUNT(*) FROM crime_code;\n",
    " count\n",
    "-------\n",
    "   319\n",
    "(1 row)\n"
   ]
  },
  {
   "cell_type": "code",
   "execution_count": null,
   "metadata": {},
   "outputs": [],
   "source": [
    "dsa_student=> SELECT COUNT(*) FROM location_area;\n",
    " count\n",
    "-------\n",
    "  1022\n",
    "(1 row)"
   ]
  },
  {
   "cell_type": "code",
   "execution_count": null,
   "metadata": {},
   "outputs": [],
   "source": [
    "dsa_student=> SELECT COUNT (*) FROM location_block\n",
    "dsa_student-> ;\n",
    " count\n",
    "-------\n",
    " 28340\n",
    "(1 row)"
   ]
  },
  {
   "cell_type": "code",
   "execution_count": null,
   "metadata": {},
   "outputs": [],
   "source": [
    "dsa_student=> SELECT COUNT (*) FROM location_area;\n",
    " count\n",
    "-------\n",
    "  1022\n",
    "(1 row)"
   ]
  },
  {
   "cell_type": "code",
   "execution_count": null,
   "metadata": {},
   "outputs": [],
   "source": [
    "dsa_student=> SELECT COUNT(*) FROM location_coordinate;\n",
    " count\n",
    "--------\n",
    " 162286\n",
    "(1 row)"
   ]
  },
  {
   "cell_type": "code",
   "execution_count": null,
   "metadata": {},
   "outputs": [],
   "source": [
    "dsa_student=> SELECT COUNT(*) FROM location_description;\n",
    " count\n",
    "-------\n",
    "    98\n",
    "(1 row)"
   ]
  },
  {
   "cell_type": "code",
   "execution_count": null,
   "metadata": {},
   "outputs": [],
   "source": [
    "dsa_student=> SELECT COUNT(*) FROM crime_location;\n",
    " count\n",
    "--------\n",
    " 243416\n",
    "(1 row)"
   ]
  },
  {
   "cell_type": "code",
   "execution_count": null,
   "metadata": {},
   "outputs": [],
   "source": [
    "dsa_student=> SELECT COUNT(*) FROM crime_record;\n",
    " count\n",
    "--------\n",
    " 334715\n",
    "(1 row)"
   ]
  },
  {
   "cell_type": "code",
   "execution_count": null,
   "metadata": {},
   "outputs": [],
   "source": []
  },
  {
   "cell_type": "markdown",
   "metadata": {},
   "source": [
    "## 2.5 Develop five distinct and useful queries that could be potentially used for policing planning, policy making, citizen awareness, etc.\n",
    "\n",
    "* Queries should provide some analytic values and use your SQL skillset beyond simple SELECT-FROM-WHERE using multiple tables. I expect to see GROUP BY/HAVING, Nested Queries, Aggregation Operators, etc.\n",
    "* Each query should have documentation to explain what this query is looking for and why it is meaningful for what purposes.\n",
    "\n",
    "### Best final projects will be given to three students (two online and one on campus) who will join me for beers at Flat Branch (local brewery in Columbia, Missouri) during the Executive Week in March 2022 (if pandemic situation is OK) or 2023 (I seriously think it should be OK by then). \n",
    "\n",
    "* five pairs of cells are expected. Your output presentations have to be self explainable. (hint: use AS)"
   ]
  },
  {
   "cell_type": "code",
   "execution_count": 65,
   "metadata": {},
   "outputs": [
    {
     "name": "stderr",
     "output_type": "stream",
     "text": [
      "UsageError: Cell magic `%%sql` not found.\n"
     ]
    }
   ],
   "source": [
    "%%sql\n",
    "SELECT count(case_number),block\n",
    "FROM crime_location JOIN location_area USING(la_id) JOIN\n",
    "crime_record USING(cl_id) JOIN\n",
    "location_block USING(lb_id)\n",
    "GROUP BY block\n",
    "ORDER BY count DESC\n",
    "LIMIT 10;\n",
    "\n",
    "\n",
    "\n",
    " count |                block\n",
    "-------+-------------------------------------\n",
    "   661 | 008XX N MICHIGAN AVE\n",
    "   556 | 0000X W TERMINAL ST\n",
    "   534 | 001XX N STATE ST\n",
    "   504 | 076XX S CICERO AVE\n",
    "   481 | 0000X N STATE ST\n",
    "   442 | 008XX N STATE ST\n",
    "   389 | 040XX W LAKE ST\n",
    "   324 | 064XX S DR MARTIN LUTHER KING JR DR\n",
    "   272 | 063XX S DR MARTIN LUTHER KING JR DR\n",
    "   272 | 009XX W BELMONT AVE\n",
    "(10 rows)\n",
    "\n",
    "\n",
    "\n"
   ]
  },
  {
   "cell_type": "code",
   "execution_count": null,
   "metadata": {},
   "outputs": [],
   "source": [
    "# What is the query trying to achieve - use natural language\n",
    "It states all the case number according to the block that has been located at most if we group by according to the group by block and order them by count desc"
   ]
  },
  {
   "cell_type": "code",
   "execution_count": 67,
   "metadata": {},
   "outputs": [
    {
     "name": "stderr",
     "output_type": "stream",
     "text": [
      "UsageError: Cell magic `%%sql` not found.\n"
     ]
    }
   ],
   "source": [
    "%%sql\n",
    "\n",
    "SELECT DISTINCT primary_type,location_description,iucr\n",
    "FROM crime_code JOIN crime_record USING(iucr) JOIN\n",
    "crime_location USING(cl_id) JOIN\n",
    "location_description USING(ld_id)\n",
    "WHERE location_description='RESIDENCE'\n",
    "LIMIT 10;\n",
    "\n",
    "\n",
    "\n",
    "        primary_type        | location_description | iucr\n",
    "----------------------------+----------------------+------\n",
    " ASSAULT                    | RESIDENCE            | 553\n",
    " THEFT                      | RESIDENCE            | 860\n",
    " NARCOTICS                  | RESIDENCE            | 2014\n",
    " BATTERY                    | RESIDENCE            | 440\n",
    " DECEPTIVE PRACTICE         | RESIDENCE            | 1110\n",
    " NARCOTICS                  | RESIDENCE            | 2031\n",
    " CRIMINAL DAMAGE            | RESIDENCE            | 1320\n",
    " CRIM SEXUAL ASSAULT        | RESIDENCE            | 266\n",
    " OFFENSE INVOLVING CHILDREN | RESIDENCE            | 1780\n",
    " CRIM SEXUAL ASSAULT        | RESIDENCE            | 274\n",
    "(10 rows)\n",
    "\n",
    "\n"
   ]
  },
  {
   "cell_type": "code",
   "execution_count": 68,
   "metadata": {},
   "outputs": [],
   "source": [
    "# What is the query trying to achieve - use natural language\n",
    "We are trying to get the distinct primary type of crimes and their location descriptuon and based upon their iucr\n",
    "and if we join them according to the location description that is **RESIDENCE**"
   ]
  },
  {
   "cell_type": "code",
   "execution_count": null,
   "metadata": {},
   "outputs": [],
   "source": [
    "%%sql\n",
    "SELECT primary_type,case_number,description\n",
    "FROM crime_code JOIN crime_record USING(iucr)\n",
    "WHERE primary_type='SEX OFFENSE'\n",
    "LIMIT 10;\n",
    "\n",
    "\n",
    "\n",
    " primary_type | case_number |          description\n",
    "--------------+-------------+--------------------------------\n",
    " SEX OFFENSE  | HZ170962    | AGG CRIMINAL SEXUAL ABUSE\n",
    " SEX OFFENSE  | HZ170983    | SEXUAL EXPLOITATION OF A CHILD\n",
    " SEX OFFENSE  | HX326496    | CRIMINAL SEXUAL ABUSE\n",
    " SEX OFFENSE  | HX197298    | AGG CRIMINAL SEXUAL ABUSE\n",
    " SEX OFFENSE  | HY265863    | AGG CRIMINAL SEXUAL ABUSE\n",
    " SEX OFFENSE  | HX263704    | CRIMINAL SEXUAL ABUSE\n",
    " SEX OFFENSE  | HX486003    | CRIMINAL SEXUAL ABUSE\n",
    " SEX OFFENSE  | HY213785    | AGG CRIMINAL SEXUAL ABUSE\n",
    " SEX OFFENSE  | HX217236    | AGG CRIMINAL SEXUAL ABUSE\n",
    " SEX OFFENSE  | HX312921    | AGG CRIMINAL SEXUAL ABUSE\n",
    "(10 rows)\n",
    "\n",
    "\n",
    "\n"
   ]
  },
  {
   "cell_type": "code",
   "execution_count": null,
   "metadata": {},
   "outputs": [],
   "source": [
    "# What is the query trying to achieve - use natural language\n",
    "We are selecting the primary type and the case number along with the description and we considered the type of crime as **SEX OFFENCSE** and we saw the top 10 for them"
   ]
  },
  {
   "cell_type": "code",
   "execution_count": null,
   "metadata": {},
   "outputs": [],
   "source": [
    "%%sql\n",
    "\n",
    "SELECT tbl.block,tbl.description, tbl.count, rank FROM\n",
    "(\n",
    "SELECT lb.block,cc.description, COUNT(*) AS count, RANK() OVER(PARTITION by lb.block ORDER BY COUNT(*) DESC) FROM crime_code cc\n",
    "JOIN crime_record cr ON cr.iucr = cc.iucr AND cr.fbi_code = cc.fbi_code\n",
    "JOIN crime_location cl ON cl.cl_id = cr.cl_id\n",
    "JOIN location_block lb ON lb.lb_id = cl.lb_id\n",
    "GROUP BY lb.block,cc.description\n",
    "ORDER BY 3 DESC\n",
    ") AS tbl\n",
    "WHERE rank<=10\n",
    "ORDER BY 1,4;\n",
    "\n",
    "\n",
    "\n",
    "                block                |                         description\n",
    "                 | count | rank\n",
    "-------------------------------------+--------------------------------------------\n",
    "-----------------+-------+------\n",
    " 0000X E 100TH PL                    | POSS: CANNABIS 30GMS OR LESS\n",
    "                 |     4 |    1\n",
    " 0000X E 100TH PL                    | DOMESTIC BATTERY SIMPLE\n",
    "                 |     3 |    2\n",
    " 0000X E 100TH PL                    | TELEPHONE THREAT\n",
    "                 |     1 |    3\n",
    " 0000X E 100TH PL                    | TO PROPERTY\n",
    "                 |     1 |    3\n",
    " 0000X E 100TH PL                    | AUTOMOBILE\n",
    "                 |     1 |    3\n",
    " 0000X E 100TH PL                    | POSS: CRACK\n",
    "                 |     1 |    3\n",
    " 0000X E 100TH PL                    | STRONGARM - NO WEAPON\n",
    "                 |     1 |    3\n",
    " 0000X E 100TH PL                    | SIMPLE\n",
    "                 |     1 |    3\n",
    " 0000X E 100TH PL                    | RECKLESS CONDUCT\n",
    "                 |     1 |    3\n",
    " 0000X E 100TH ST                    | DOMESTIC BATTERY SIMPLE\n",
    "                 |     7 |    1\n",
    " 0000X E 100TH ST                    | FORCIBLE ENTRY\n",
    "                 |     3 |    2\n",
    " 0000X E 100TH ST                    | POSS: CANNABIS 30GMS OR LESS\n",
    "                 |     3 |    2\n",
    " 0000X E 100TH ST                    | $500 AND UNDER\n",
    "                 |     2 |    4\n",
    " 0000X E 100TH ST                    | AUTOMOBILE\n",
    "                 |     2 |    4\n",
    " 0000X E 100TH ST                    | ENDANGERING LIFE/HEALTH CHILD\n",
    "                 |     1 |    6\n",
    " 0000X E 100TH ST                    | UNLAWFUL POSS OF HANDGUN\n",
    "                 |     1 |    6\n",
    " 0000X E 100TH ST                    | AGGRAVATED:KNIFE/CUTTING INSTR\n",
    "                 |     1 |    6\n",
    " 0000X E 100TH ST                    | POSS: HALLUCINOGENS\n",
    "                 |     1 |    6\n",
    " 0000X E 100TH ST                    | AGG PO HANDS NO/MIN INJURY\n",
    "                 |     1 |    6\n",
    " 0000X E 100TH ST                    | SIMPLE\n",
    "                 |     1 |    6\n",
    " 0000X E 100TH ST                    | NON-AGGRAVATED\n",
    "                 |     1 |    6\n"
   ]
  },
  {
   "cell_type": "code",
   "execution_count": null,
   "metadata": {},
   "outputs": [],
   "source": [
    "# What is the query trying to achieve - use natural language\n",
    "We are trying to see the description along with count as ranking in accordance to their description "
   ]
  },
  {
   "cell_type": "code",
   "execution_count": 69,
   "metadata": {},
   "outputs": [
    {
     "name": "stderr",
     "output_type": "stream",
     "text": [
      "UsageError: Cell magic `%%sql` not found.\n"
     ]
    }
   ],
   "source": [
    "%%sql\n",
    "\n",
    "dsa_student=> select count(*) as no_of_cases from location_area group by ward\n",
    "dsa_student-> LIMIT 10;\n",
    "\n",
    "\n",
    "no_of_cases\n",
    "-------------\n",
    "          23\n",
    "          13\n",
    "          29\n",
    "          14\n",
    "           3\n",
    "          16\n",
    "          11\n",
    "          17\n",
    "          13\n",
    "          31\n",
    "(10 rows)\n"
   ]
  },
  {
   "cell_type": "code",
   "execution_count": null,
   "metadata": {},
   "outputs": [],
   "source": [
    "# What is the query trying to achieve - use natural language\n",
    "getting the cases per ward by this we query we can analze that which ward is having most cases."
   ]
  },
  {
   "cell_type": "markdown",
   "metadata": {},
   "source": [
    "## End of Final Project"
   ]
  },
  {
   "cell_type": "markdown",
   "metadata": {},
   "source": [
    "# Save your notebook, then `File > Close and Halt`"
   ]
  }
 ],
 "metadata": {
  "kernelspec": {
   "display_name": "Python 3",
   "language": "python",
   "name": "python3"
  },
  "language_info": {
   "codemirror_mode": {
    "name": "ipython",
    "version": 3
   },
   "file_extension": ".py",
   "mimetype": "text/x-python",
   "name": "python",
   "nbconvert_exporter": "python",
   "pygments_lexer": "ipython3",
   "version": "3.7.3"
  },
  "latex_envs": {
   "LaTeX_envs_menu_present": true,
   "bibliofile": "biblio.bib",
   "cite_by": "apalike",
   "current_citInitial": 1,
   "eqLabelWithNumbers": true,
   "eqNumInitial": 1,
   "labels_anchors": false,
   "latex_user_defs": false,
   "report_style_numbering": false,
   "user_envs_cfg": false
  },
  "toc": {
   "colors": {
    "hover_highlight": "#DAA520",
    "running_highlight": "#FF0000",
    "selected_highlight": "#FFD700"
   },
   "moveMenuLeft": true,
   "nav_menu": {
    "height": "139.261px",
    "width": "251.989px"
   },
   "navigate_menu": true,
   "number_sections": true,
   "sideBar": true,
   "threshold": 4,
   "toc_cell": true,
   "toc_section_display": "block",
   "toc_window_display": false
  }
 },
 "nbformat": 4,
 "nbformat_minor": 4
}
